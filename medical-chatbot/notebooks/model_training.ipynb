{
 "cells": [
  {
   "cell_type": "markdown",
   "metadata": {},
   "source": [
    "# Model Training Notebook\n",
    "\n",
    "This notebook is used for training the deep learning models for the medical chatbot. It includes data loading, preprocessing, model training, and saving the trained models."
   ]
  },
  {
   "cell_type": "code",
   "execution_count": null,
   "metadata": {
    "collapsed": false
   },
   "outputs": [],
   "source": [
    "import pandas as pd\n",
    "import numpy as np\n",
    "import tensorflow as tf\n",
    "from src.data.data_loader import DataLoader\n",
    "from src.data.preprocessor import preprocess_data\n",
    "from src.training.trainer import Trainer\n",
    "from src.models.symptom_classifier import SymptomClassifier\n",
    "from src.models.drug_recommender import DrugRecommender\n",
    "\n",
    "# Load and preprocess data\n",
    "data_path = '../data/processed/drug_symptoms.csv'\n",
    "data = pd.read_csv(data_path)\n",
    "X, y = preprocess_data(data)\n",
    "\n",
    "# Initialize DataLoader\n",
    "data_loader = DataLoader(X, y, batch_size=32)\n",
    "\n",
    "# Initialize models\n",
    "symptom_classifier = SymptomClassifier()\n",
    "drug_recommender = DrugRecommender()\n",
    "\n",
    "# Initialize Trainer\n",
    "trainer = Trainer(symptom_classifier, drug_recommender)\n",
    "\n",
    "# Train the models\n",
    "trainer.train(data_loader)\n",
    "\n",
    "# Save the trained models\n",
    "symptom_classifier.save('models/symptom_classifier.h5')\n",
    "drug_recommender.save('models/drug_recommender.h5')\n",
    "\n",
    "print('Models trained and saved successfully!')"
   ]
  }
 ],
 "metadata": {
  "kernelspec": {
   "display_name": "Python 3",
   "language": "python",
   "name": "python3"
  },
  "language_info": {
   "codemirror_mode": {
    "name": "ipython",
    "version": 3
   },
   "file_extension": ".py",
   "mimetype": "text/x-python",
   "name": "python",
   "nbconvert_exporter": "python",
   "pygments_lexer": "ipython3",
   "version": "3.8.5"
  }
 },
 "nbformat": 4,
 "nbformat_minor": 4
}