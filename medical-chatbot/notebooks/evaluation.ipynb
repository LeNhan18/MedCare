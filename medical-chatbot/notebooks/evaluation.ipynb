{
 "cells": [
  {
   "cell_type": "markdown",
   "metadata": {},
   "source": [
    "# Model Evaluation\n",
    "\n",
    "This notebook is used to evaluate the performance of the trained models for the medical chatbot. We will load the trained models, prepare the evaluation dataset, and compute various metrics to assess their performance."
   ]
  },
  {
   "cell_type": "code",
   "execution_count": null,
   "metadata": {
    "collapsed": false
   },
   "outputs": [],
   "source": [
    "# Import necessary libraries\n",
    "import pandas as pd\n",
    "import numpy as np\n",
    "from sklearn.metrics import classification_report, confusion_matrix\n",
    "import matplotlib.pyplot as plt\n",
    "import seaborn as sns\n",
    "\n",
    "# Load the trained models\n",
    "from src.models.symptom_classifier import SymptomClassifier\n",
    "from src.models.drug_recommender import DrugRecommender\n",
    "\n",
    "# Initialize the models\n",
    "symptom_classifier = SymptomClassifier()\n",
    "drug_recommender = DrugRecommender()\n",
    "\n",
    "# Load evaluation dataset\n",
    "evaluation_data = pd.read_csv('data/processed/evaluation_data.csv')\n",
    "\n",
    "# Prepare features and labels\n",
    "X_eval = evaluation_data['symptoms']\n",
    "y_eval = evaluation_data['medications']\n",
    "\n",
    "# Predict symptoms\n",
    "predicted_symptoms = symptom_classifier.predict(X_eval)\n",
    "\n",
    "# Generate classification report\n",
    "print(classification_report(y_eval, predicted_symptoms))\n",
    "\n",
    "# Confusion matrix\n",
    "conf_matrix = confusion_matrix(y_eval, predicted_symptoms)\n",
    "plt.figure(figsize=(10, 7))\n",
    "sns.heatmap(conf_matrix, annot=True, fmt='d', cmap='Blues')\n",
    "plt.title('Confusion Matrix')\n",
    "plt.xlabel('Predicted')\n",
    "plt.ylabel('True')\n",
    "plt.show()\n",
    "\n",
    "# Evaluate drug recommendations\n",
    "recommended_drugs = drug_recommender.recommend(predicted_symptoms)\n",
    "\n",
    "# Display recommendations\n",
    "for symptom, drugs in zip(predicted_symptoms, recommended_drugs):\n",
    "    print(f'Symptom: {symptom}, Recommended Drugs: {drugs}')"
   ]
  }
 ],
 "metadata": {
  "kernelspec": {
   "display_name": "Python 3",
   "language": "python",
   "name": "python3"
  },
  "language_info": {
   "codemirror_mode": {
    "name": "ipython",
    "version": 3
   },
   "file_extension": ".py",
   "mimetype": "text/x-python",
   "name": "python",
   "nbconvert_exporter": "python",
   "pygments_lexer": "ipython3",
   "version": "3.8.5"
  }
 },
 "nbformat": 4,
 "nbformat_minor": 4
}