{
  "cells": [
    {
      "cell_type": "code",
      "source": [
        "\"\"\"Medical chatbot -Intent Classificaion Model(Deep Learning version)\n",
        "Sử dụng PhoBERT để phân loại ý định\n",
        "\"\"\"\n",
        "!pip install transformers datasets accelerate torch\n"
      ],
      "metadata": {
        "colab": {
          "base_uri": "https://localhost:8080/"
        },
        "id": "CtiH_48E3UfQ",
        "outputId": "0fedec28-3f2b-43a8-fe6f-125a54a342b7"
      },
      "execution_count": null,
      "outputs": [
        {
          "output_type": "stream",
          "name": "stdout",
          "text": [
            "Requirement already satisfied: transformers in /usr/local/lib/python3.12/dist-packages (4.57.1)\n",
            "Requirement already satisfied: datasets in /usr/local/lib/python3.12/dist-packages (4.0.0)\n",
            "Requirement already satisfied: accelerate in /usr/local/lib/python3.12/dist-packages (1.10.1)\n",
            "Requirement already satisfied: torch in /usr/local/lib/python3.12/dist-packages (2.8.0+cu126)\n",
            "Requirement already satisfied: filelock in /usr/local/lib/python3.12/dist-packages (from transformers) (3.20.0)\n",
            "Requirement already satisfied: huggingface-hub<1.0,>=0.34.0 in /usr/local/lib/python3.12/dist-packages (from transformers) (0.35.3)\n",
            "Requirement already satisfied: numpy>=1.17 in /usr/local/lib/python3.12/dist-packages (from transformers) (2.0.2)\n",
            "Requirement already satisfied: packaging>=20.0 in /usr/local/lib/python3.12/dist-packages (from transformers) (25.0)\n",
            "Requirement already satisfied: pyyaml>=5.1 in /usr/local/lib/python3.12/dist-packages (from transformers) (6.0.3)\n",
            "Requirement already satisfied: regex!=2019.12.17 in /usr/local/lib/python3.12/dist-packages (from transformers) (2024.11.6)\n",
            "Requirement already satisfied: requests in /usr/local/lib/python3.12/dist-packages (from transformers) (2.32.4)\n",
            "Requirement already satisfied: tokenizers<=0.23.0,>=0.22.0 in /usr/local/lib/python3.12/dist-packages (from transformers) (0.22.1)\n",
            "Requirement already satisfied: safetensors>=0.4.3 in /usr/local/lib/python3.12/dist-packages (from transformers) (0.6.2)\n",
            "Requirement already satisfied: tqdm>=4.27 in /usr/local/lib/python3.12/dist-packages (from transformers) (4.67.1)\n",
            "Requirement already satisfied: pyarrow>=15.0.0 in /usr/local/lib/python3.12/dist-packages (from datasets) (18.1.0)\n",
            "Requirement already satisfied: dill<0.3.9,>=0.3.0 in /usr/local/lib/python3.12/dist-packages (from datasets) (0.3.8)\n",
            "Requirement already satisfied: pandas in /usr/local/lib/python3.12/dist-packages (from datasets) (2.2.2)\n",
            "Requirement already satisfied: xxhash in /usr/local/lib/python3.12/dist-packages (from datasets) (3.6.0)\n",
            "Requirement already satisfied: multiprocess<0.70.17 in /usr/local/lib/python3.12/dist-packages (from datasets) (0.70.16)\n",
            "Requirement already satisfied: fsspec<=2025.3.0,>=2023.1.0 in /usr/local/lib/python3.12/dist-packages (from fsspec[http]<=2025.3.0,>=2023.1.0->datasets) (2025.3.0)\n",
            "Requirement already satisfied: psutil in /usr/local/lib/python3.12/dist-packages (from accelerate) (5.9.5)\n",
            "Requirement already satisfied: typing-extensions>=4.10.0 in /usr/local/lib/python3.12/dist-packages (from torch) (4.15.0)\n",
            "Requirement already satisfied: setuptools in /usr/local/lib/python3.12/dist-packages (from torch) (75.2.0)\n",
            "Requirement already satisfied: sympy>=1.13.3 in /usr/local/lib/python3.12/dist-packages (from torch) (1.13.3)\n",
            "Requirement already satisfied: networkx in /usr/local/lib/python3.12/dist-packages (from torch) (3.5)\n",
            "Requirement already satisfied: jinja2 in /usr/local/lib/python3.12/dist-packages (from torch) (3.1.6)\n",
            "Requirement already satisfied: nvidia-cuda-nvrtc-cu12==12.6.77 in /usr/local/lib/python3.12/dist-packages (from torch) (12.6.77)\n",
            "Requirement already satisfied: nvidia-cuda-runtime-cu12==12.6.77 in /usr/local/lib/python3.12/dist-packages (from torch) (12.6.77)\n",
            "Requirement already satisfied: nvidia-cuda-cupti-cu12==12.6.80 in /usr/local/lib/python3.12/dist-packages (from torch) (12.6.80)\n",
            "Requirement already satisfied: nvidia-cudnn-cu12==9.10.2.21 in /usr/local/lib/python3.12/dist-packages (from torch) (9.10.2.21)\n",
            "Requirement already satisfied: nvidia-cublas-cu12==12.6.4.1 in /usr/local/lib/python3.12/dist-packages (from torch) (12.6.4.1)\n",
            "Requirement already satisfied: nvidia-cufft-cu12==11.3.0.4 in /usr/local/lib/python3.12/dist-packages (from torch) (11.3.0.4)\n",
            "Requirement already satisfied: nvidia-curand-cu12==10.3.7.77 in /usr/local/lib/python3.12/dist-packages (from torch) (10.3.7.77)\n",
            "Requirement already satisfied: nvidia-cusolver-cu12==11.7.1.2 in /usr/local/lib/python3.12/dist-packages (from torch) (11.7.1.2)\n",
            "Requirement already satisfied: nvidia-cusparse-cu12==12.5.4.2 in /usr/local/lib/python3.12/dist-packages (from torch) (12.5.4.2)\n",
            "Requirement already satisfied: nvidia-cusparselt-cu12==0.7.1 in /usr/local/lib/python3.12/dist-packages (from torch) (0.7.1)\n",
            "Requirement already satisfied: nvidia-nccl-cu12==2.27.3 in /usr/local/lib/python3.12/dist-packages (from torch) (2.27.3)\n",
            "Requirement already satisfied: nvidia-nvtx-cu12==12.6.77 in /usr/local/lib/python3.12/dist-packages (from torch) (12.6.77)\n",
            "Requirement already satisfied: nvidia-nvjitlink-cu12==12.6.85 in /usr/local/lib/python3.12/dist-packages (from torch) (12.6.85)\n",
            "Requirement already satisfied: nvidia-cufile-cu12==1.11.1.6 in /usr/local/lib/python3.12/dist-packages (from torch) (1.11.1.6)\n",
            "Requirement already satisfied: triton==3.4.0 in /usr/local/lib/python3.12/dist-packages (from torch) (3.4.0)\n",
            "Requirement already satisfied: aiohttp!=4.0.0a0,!=4.0.0a1 in /usr/local/lib/python3.12/dist-packages (from fsspec[http]<=2025.3.0,>=2023.1.0->datasets) (3.13.0)\n",
            "Requirement already satisfied: hf-xet<2.0.0,>=1.1.3 in /usr/local/lib/python3.12/dist-packages (from huggingface-hub<1.0,>=0.34.0->transformers) (1.1.10)\n",
            "Requirement already satisfied: charset_normalizer<4,>=2 in /usr/local/lib/python3.12/dist-packages (from requests->transformers) (3.4.4)\n",
            "Requirement already satisfied: idna<4,>=2.5 in /usr/local/lib/python3.12/dist-packages (from requests->transformers) (3.11)\n",
            "Requirement already satisfied: urllib3<3,>=1.21.1 in /usr/local/lib/python3.12/dist-packages (from requests->transformers) (2.5.0)\n",
            "Requirement already satisfied: certifi>=2017.4.17 in /usr/local/lib/python3.12/dist-packages (from requests->transformers) (2025.10.5)\n",
            "Requirement already satisfied: mpmath<1.4,>=1.1.0 in /usr/local/lib/python3.12/dist-packages (from sympy>=1.13.3->torch) (1.3.0)\n",
            "Requirement already satisfied: MarkupSafe>=2.0 in /usr/local/lib/python3.12/dist-packages (from jinja2->torch) (3.0.3)\n",
            "Requirement already satisfied: python-dateutil>=2.8.2 in /usr/local/lib/python3.12/dist-packages (from pandas->datasets) (2.9.0.post0)\n",
            "Requirement already satisfied: pytz>=2020.1 in /usr/local/lib/python3.12/dist-packages (from pandas->datasets) (2025.2)\n",
            "Requirement already satisfied: tzdata>=2022.7 in /usr/local/lib/python3.12/dist-packages (from pandas->datasets) (2025.2)\n",
            "Requirement already satisfied: aiohappyeyeballs>=2.5.0 in /usr/local/lib/python3.12/dist-packages (from aiohttp!=4.0.0a0,!=4.0.0a1->fsspec[http]<=2025.3.0,>=2023.1.0->datasets) (2.6.1)\n",
            "Requirement already satisfied: aiosignal>=1.4.0 in /usr/local/lib/python3.12/dist-packages (from aiohttp!=4.0.0a0,!=4.0.0a1->fsspec[http]<=2025.3.0,>=2023.1.0->datasets) (1.4.0)\n",
            "Requirement already satisfied: attrs>=17.3.0 in /usr/local/lib/python3.12/dist-packages (from aiohttp!=4.0.0a0,!=4.0.0a1->fsspec[http]<=2025.3.0,>=2023.1.0->datasets) (25.4.0)\n",
            "Requirement already satisfied: frozenlist>=1.1.1 in /usr/local/lib/python3.12/dist-packages (from aiohttp!=4.0.0a0,!=4.0.0a1->fsspec[http]<=2025.3.0,>=2023.1.0->datasets) (1.8.0)\n",
            "Requirement already satisfied: multidict<7.0,>=4.5 in /usr/local/lib/python3.12/dist-packages (from aiohttp!=4.0.0a0,!=4.0.0a1->fsspec[http]<=2025.3.0,>=2023.1.0->datasets) (6.7.0)\n",
            "Requirement already satisfied: propcache>=0.2.0 in /usr/local/lib/python3.12/dist-packages (from aiohttp!=4.0.0a0,!=4.0.0a1->fsspec[http]<=2025.3.0,>=2023.1.0->datasets) (0.4.1)\n",
            "Requirement already satisfied: yarl<2.0,>=1.17.0 in /usr/local/lib/python3.12/dist-packages (from aiohttp!=4.0.0a0,!=4.0.0a1->fsspec[http]<=2025.3.0,>=2023.1.0->datasets) (1.22.0)\n",
            "Requirement already satisfied: six>=1.5 in /usr/local/lib/python3.12/dist-packages (from python-dateutil>=2.8.2->pandas->datasets) (1.17.0)\n"
          ]
        }
      ]
    },
    {
      "cell_type": "code",
      "source": [
        "import torch\n",
        "if torch.cuda.is_available():\n",
        "  print(f\"Đã nhận GPU{torch.cuda.get_device_name(0)}\")\n",
        "  device = torch.device(\"cuda\")\n",
        "else:\n",
        "  print(\"Không nhận được GPU\")\n",
        "  device = torch.device(\"cpu\")\n",
        "!nvidia-smi"
      ],
      "metadata": {
        "colab": {
          "base_uri": "https://localhost:8080/"
        },
        "id": "ja4FOrd24xgp",
        "outputId": "ccadd071-91b4-400d-a30c-9b7499c40b8a"
      },
      "execution_count": null,
      "outputs": [
        {
          "output_type": "stream",
          "name": "stdout",
          "text": [
            "Đã nhận GPUTesla T4\n",
            "Wed Oct 22 09:49:51 2025       \n",
            "+-----------------------------------------------------------------------------------------+\n",
            "| NVIDIA-SMI 550.54.15              Driver Version: 550.54.15      CUDA Version: 12.4     |\n",
            "|-----------------------------------------+------------------------+----------------------+\n",
            "| GPU  Name                 Persistence-M | Bus-Id          Disp.A | Volatile Uncorr. ECC |\n",
            "| Fan  Temp   Perf          Pwr:Usage/Cap |           Memory-Usage | GPU-Util  Compute M. |\n",
            "|                                         |                        |               MIG M. |\n",
            "|=========================================+========================+======================|\n",
            "|   0  Tesla T4                       Off |   00000000:00:04.0 Off |                    0 |\n",
            "| N/A   36C    P8              9W /   70W |       2MiB /  15360MiB |      0%      Default |\n",
            "|                                         |                        |                  N/A |\n",
            "+-----------------------------------------+------------------------+----------------------+\n",
            "                                                                                         \n",
            "+-----------------------------------------------------------------------------------------+\n",
            "| Processes:                                                                              |\n",
            "|  GPU   GI   CI        PID   Type   Process name                              GPU Memory |\n",
            "|        ID   ID                                                               Usage      |\n",
            "|=========================================================================================|\n",
            "|  No running processes found                                                             |\n",
            "+-----------------------------------------------------------------------------------------+\n"
          ]
        }
      ]
    },
    {
      "cell_type": "code",
      "source": [
        "from google.colab import drive\n",
        "drive.mount('/content/drive')"
      ],
      "metadata": {
        "colab": {
          "base_uri": "https://localhost:8080/"
        },
        "id": "mDSpfvXV5mHv",
        "outputId": "800a31a3-1dbb-448b-b22a-c17820196b58"
      },
      "execution_count": null,
      "outputs": [
        {
          "output_type": "stream",
          "name": "stdout",
          "text": [
            "Mounted at /content/drive\n"
          ]
        }
      ]
    },
    {
      "cell_type": "code",
      "source": [
        "import os\n",
        "DRIVE_PATH = '/content/drive/My Drive/Medical_Chatbot/'\n",
        "DATA_CSV_PATH = os.path.join(DRIVE_PATH, 'Data','medical_intent_dataset_v4_balanced.csv')\n",
        "MODEL_SAVE_PATH = os.path.join(DRIVE_PATH,'Model','intent_dl_phobert_v2')\n",
        "#Tạo thư mục lưu model chưa   có\n",
        "os.makedirs(MODEL_SAVE_PATH,exist_ok=True)\n"
      ],
      "metadata": {
        "id": "C7trvOKY6sKl"
      },
      "execution_count": null,
      "outputs": []
    },
    {
      "cell_type": "code",
      "source": [
        "import pandas as pd\n",
        "from datasets import Dataset, Features, ClassLabel, Value\n",
        "from transformers import AutoTokenizer\n",
        "from sklearn.model_selection import train_test_split\n",
        "\n",
        "# 1. Tải Tokenizer cho PhoBERT\n",
        "phobert_tokenizer = AutoTokenizer.from_pretrained(\"vinai/phobert-base-v2\")\n",
        "\n",
        "def load_training_data_from_csv(csv_path):\n",
        "    \"\"\"\n",
        "    Tải và chuẩn bị dữ liệu từ file 5K CSV\n",
        "    \"\"\"\n",
        "    try:\n",
        "        df = pd.read_csv(csv_path, encoding='utf-8')\n",
        "        print(f\" Đã tải {len(df)} mẫu từ dataset 5K: {csv_path}\")\n",
        "\n",
        "        df = df.dropna(subset=['text', 'intent'])\n",
        "        df['text'] = df['text'].astype(str)\n",
        "        df['intent'] = df['intent'].astype(str)\n",
        "\n",
        "        # Tạo bản đồ nhãn (label maps)\n",
        "        labels_list = sorted(list(df['intent'].unique()))\n",
        "        label2id = {label: i for i, label in enumerate(labels_list)}\n",
        "        id2label = {i: label for i, label in enumerate(labels_list)}\n",
        "\n",
        "        df['label'] = df['intent'].map(label2id)\n",
        "\n",
        "        print(f\"Tìm thấy {len(labels_list)} intents: {labels_list}\")\n",
        "\n",
        "        # Select only the necessary columns before creating the Dataset\n",
        "        df_selected = df[['text', 'label']]\n",
        "\n",
        "        features_schema = Features({\n",
        "           'text': Value('string'),\n",
        "           'label': ClassLabel(names=labels_list)\n",
        "        })\n",
        "\n",
        "        dataset = Dataset.from_pandas(df_selected, features=features_schema)\n",
        "        return dataset, label2id, id2label\n",
        "    except Exception as e:\n",
        "        print(f\" Lỗi nghiêm trọng khi đọc file CSV: {e}\")\n",
        "        return None, None, None\n",
        "\n",
        "def tokenize_function(examples):\n",
        "    # Tokenize text với padding và truncation\n",
        "    return phobert_tokenizer(examples[\"text\"], padding=\"max_length\", truncation=True, max_length=128)\n",
        "\n",
        "# 2. Tải dữ liệu\n",
        "dataset, label2id, id2label = load_training_data_from_csv(DATA_CSV_PATH)\n",
        "\n",
        "if dataset:\n",
        "    # 3. Tokenize\n",
        "    print(\"...Đang tokenize dữ liệu (có thể mất vài phút)...\")\n",
        "    tokenized_dataset = dataset.map(tokenize_function, batched=True)\n",
        "\n",
        "    # 4. Chia train/test (ví dụ: 85% train, 15% eval)\n",
        "    train_test_split_dataset = tokenized_dataset.train_test_split(test_size=0.15, stratify_by_column='label')\n",
        "    train_dataset = train_test_split_dataset['train']\n",
        "    eval_dataset = train_test_split_dataset['test']\n",
        "\n",
        "    print(f\" Kích thước: {len(train_dataset)} train, {len(eval_dataset)} evaluation\")\n",
        "else:\n",
        "    print(\" Không thể tiếp tục vì không tải được dữ liệu.\")"
      ],
      "metadata": {
        "colab": {
          "base_uri": "https://localhost:8080/",
          "height": 371,
          "referenced_widgets": [
            "84745ce691824db8ab6acccd43f82e8a",
            "8054327ddf134f0e9ac60c8c7b3d8df7",
            "fe97e40e6e7f47aa89c854d1b0506c8c",
            "5c5030639bd847bda244dbca3dc863fe",
            "f8c5f67b272b48e6803538ef22206b0a",
            "41604fac30b947d7a33bec494056228f",
            "90c71a238b134e9292b46a7b1d173b3e",
            "027f14345b4246e8af7e190452fdf04b",
            "73f03f1c70114c86af84638ad7a8b9ea",
            "8c41593dca2440c7aebb22ea9852da77",
            "e3353eb692a0498ab9a96e92e66e2dd5",
            "9e33161f36c34bddac1d90997e1f8533",
            "6d0fa3a9c13e477db319772798f47954",
            "9ef056789c874195a4665e844228fd7a",
            "f4bc2adb3c0842539b25960422272030",
            "de2afe8bb88544b38ee95b98bf90f6c2",
            "9e61c89fffdf41bbaea3ca9775dc4b8f",
            "dfb89e73f8dd4f878b02d0bcbf39cc5a",
            "82e3c033a9ae4dfb899859d5207b58ee",
            "45de62805e12475abd72e304114582fc",
            "5a00a546a1ee417e8109df09a9bcd2d9",
            "2ceacad299284b7288ac15b20a0dfe4f",
            "95ee123d936240369c4c84dcd0da2b88",
            "c808f6fc1a6a4d4c812be4434f177f20",
            "7122c9a357654ecaba9811229c159be9",
            "c4a74178360147e9846fe22570809bae",
            "1efc815a7071494cbbebb4985bc1e0c1",
            "36d5048d3a1e44fd8cc605b6bf77c1a5",
            "33de965f1e0a4707b431d1893483c8b3",
            "cac03e7ebef746388e68b231f4efa904",
            "80680af6bd6d4361b0f01a0a47e65a3d",
            "9c8b4671a7a44aa9b65cc5cc75ce86bc",
            "076cb66fdaed4910bba1a4bec98cc859",
            "ed29a6f948ce46e8acea873b6e7b9d03",
            "a236c7dd5c514a918b78cfe5d6c7d20d",
            "ebd5c1fa74dc4114aade9992be275fa5",
            "028910d5e275464785f92978fbf238bf",
            "35750af1925344efb8e907d9ac9aae4d",
            "931a7db3b58d4081a270d442025ba61c",
            "e8a0435b4f884a3392d97c5d67d0cb6c",
            "3ca5590d06ea49fdb5cc655c383a7a2f",
            "c605e86fa2b24f978ba9f26aaf6876b4",
            "3374fbc914ce4689aacbf616d3de23e3",
            "19c13142ad80429f9a417887dde9ecdb",
            "4ea536c5ffb34d95aebdbd4cccdfa437",
            "8cc2d9df15b2486da0912c08bb052101",
            "087a6a39781a4caa8a713159efbebffb",
            "cc2ba46898db46c69a15c8e7ce0c7ebf",
            "1db4b75699884619bb401624b7cb0b37",
            "1b3b37a85c074c309b4ef4946a25d7bd",
            "cc0fa8b48e5248b9b8573799f936d7a4",
            "ac91312dcfdf4a0baab4ffa42a9232a2",
            "912fbc963d7a454da870b6f0cc7ce947",
            "cd4787b0ca124479a9f140e8a18e30de",
            "aedff8dc0fcc42fba9847be696f9df6b"
          ]
        },
        "id": "QbUG_jxd8cDh",
        "outputId": "07ae12c2-b27b-4552-e367-07ff434bb9a6"
      },
      "execution_count": null,
      "outputs": [
        {
          "output_type": "stream",
          "name": "stderr",
          "text": [
            "/usr/local/lib/python3.12/dist-packages/huggingface_hub/utils/_auth.py:94: UserWarning: \n",
            "The secret `HF_TOKEN` does not exist in your Colab secrets.\n",
            "To authenticate with the Hugging Face Hub, create a token in your settings tab (https://huggingface.co/settings/tokens), set it as secret in your Google Colab and restart your session.\n",
            "You will be able to reuse this secret in all of your notebooks.\n",
            "Please note that authentication is recommended but still optional to access public models or datasets.\n",
            "  warnings.warn(\n"
          ]
        },
        {
          "output_type": "display_data",
          "data": {
            "text/plain": [
              "config.json:   0%|          | 0.00/678 [00:00<?, ?B/s]"
            ],
            "application/vnd.jupyter.widget-view+json": {
              "version_major": 2,
              "version_minor": 0,
              "model_id": "84745ce691824db8ab6acccd43f82e8a"
            }
          },
          "metadata": {}
        },
        {
          "output_type": "display_data",
          "data": {
            "text/plain": [
              "vocab.txt: 0.00B [00:00, ?B/s]"
            ],
            "application/vnd.jupyter.widget-view+json": {
              "version_major": 2,
              "version_minor": 0,
              "model_id": "9e33161f36c34bddac1d90997e1f8533"
            }
          },
          "metadata": {}
        },
        {
          "output_type": "display_data",
          "data": {
            "text/plain": [
              "bpe.codes: 0.00B [00:00, ?B/s]"
            ],
            "application/vnd.jupyter.widget-view+json": {
              "version_major": 2,
              "version_minor": 0,
              "model_id": "95ee123d936240369c4c84dcd0da2b88"
            }
          },
          "metadata": {}
        },
        {
          "output_type": "display_data",
          "data": {
            "text/plain": [
              "tokenizer.json: 0.00B [00:00, ?B/s]"
            ],
            "application/vnd.jupyter.widget-view+json": {
              "version_major": 2,
              "version_minor": 0,
              "model_id": "ed29a6f948ce46e8acea873b6e7b9d03"
            }
          },
          "metadata": {}
        },
        {
          "output_type": "stream",
          "name": "stdout",
          "text": [
            " Đã tải 1558 mẫu từ dataset 5K: /content/drive/My Drive/Medical_Chatbot/Data/medical_intent_dataset_v4_balanced.csv\n",
            "Tìm thấy 11 intents: ['diet_lifestyle', 'dosage_question', 'drug_interaction', 'drug_question', 'emergency', 'general_health', 'greeting', 'medical_procedure', 'side_effects', 'symptom_inquiry', 'unknown']\n",
            "...Đang tokenize dữ liệu (có thể mất vài phút)...\n"
          ]
        },
        {
          "output_type": "display_data",
          "data": {
            "text/plain": [
              "Map:   0%|          | 0/1558 [00:00<?, ? examples/s]"
            ],
            "application/vnd.jupyter.widget-view+json": {
              "version_major": 2,
              "version_minor": 0,
              "model_id": "4ea536c5ffb34d95aebdbd4cccdfa437"
            }
          },
          "metadata": {}
        },
        {
          "output_type": "stream",
          "name": "stdout",
          "text": [
            " Kích thước: 1324 train, 234 evaluation\n"
          ]
        }
      ]
    },
    {
      "cell_type": "code",
      "source": [
        "#Bước 4 :Tải và cấu hình mô hình PhoBERT\n",
        "#Tải PhoBERT gốc và thiết lập các thông số để huấn luyện\n",
        "\n",
        "from transformers import (AutoModelForSequenceClassification, TrainingArguments,Trainer,EarlyStoppingCallback)\n",
        "from sklearn.metrics import accuracy_score,classification_report\n",
        "import numpy as np\n",
        "#Tải mô hình PhoBERT gốc\n",
        "num_labels = len(label2id)\n",
        "model = AutoModelForSequenceClassification.from_pretrained(\n",
        "    \"vinai/phobert-base-v2\",\n",
        "    num_labels=num_labels,\n",
        "    id2label=id2label,\n",
        "    label2id=label2id\n",
        ")\n",
        "model.to(device)\n",
        "#Hàm tính toán metrics\n",
        "def compute_metrics(eval_pred):\n",
        "  predictions,labels= eval_pred\n",
        "  predictions = np.argmax(predictions,axis=1)\n",
        "  accuracy = accuracy_score(labels,predictions)\n",
        "  return {\"accuracy\":accuracy}\n",
        "#Cấu hình training\n",
        "training_args = TrainingArguments(\n",
        "    output_dir=MODEL_SAVE_PATH, #Nơi lưu check point\n",
        "    num_train_epochs=10,\n",
        "    per_device_train_batch_size=16,\n",
        "    per_device_eval_batch_size=16,\n",
        "    warmup_steps=500,\n",
        "    weight_decay=0.01,\n",
        "    logging_dir='./logs',\n",
        "    logging_steps=100,\n",
        "    eval_strategy=\"epoch\",           # Đánh giá sau mỗi epoch\n",
        "    save_strategy=\"epoch\",                 # Lưu model sau mỗi epoch\n",
        "    load_best_model_at_end=True,           # Tự động tải model tốt nhất\n",
        "    metric_for_best_model=\"accuracy\",\n",
        "    greater_is_better=True,\n",
        "    report_to=\"none\" # Explicitly disable W&B logging\n",
        ")"
      ],
      "metadata": {
        "colab": {
          "base_uri": "https://localhost:8080/"
        },
        "id": "c6HoxxxCCMzy",
        "outputId": "3224d217-5226-4f14-f6c9-a4bbb56f04fd"
      },
      "execution_count": null,
      "outputs": [
        {
          "output_type": "stream",
          "name": "stderr",
          "text": [
            "Some weights of RobertaForSequenceClassification were not initialized from the model checkpoint at vinai/phobert-base-v2 and are newly initialized: ['classifier.dense.bias', 'classifier.dense.weight', 'classifier.out_proj.bias', 'classifier.out_proj.weight']\n",
            "You should probably TRAIN this model on a down-stream task to be able to use it for predictions and inference.\n"
          ]
        }
      ]
    },
    {
      "cell_type": "code",
      "source": [
        "# Huấn luyện (Fine tune) Mô hình\n",
        "#1 Khởi tạo Trainer\n",
        "trainer = Trainer(\n",
        "  model=model,\n",
        "  args=training_args,\n",
        "  train_dataset=train_dataset,\n",
        "  eval_dataset=eval_dataset,\n",
        "  compute_metrics=compute_metrics,\n",
        "  callbacks=[EarlyStoppingCallback(early_stopping_patience=3)]\n",
        "  # Removed report_to=\"none\" from here as it's in TrainingArguments\n",
        ")\n",
        "#2 Bất đầu huấn luyện\n",
        "print(\"Bắt Đầu Huấn Luyện\")\n",
        "trainer.train()"
      ],
      "metadata": {
        "colab": {
          "base_uri": "https://localhost:8080/",
          "height": 395
        },
        "id": "Txbgdx4YE8_s",
        "outputId": "d6ef0155-e3e7-4426-b303-1fa0eb0b7025"
      },
      "execution_count": null,
      "outputs": [
        {
          "output_type": "stream",
          "name": "stdout",
          "text": [
            "Bắt Đầu Huấn Luyện\n"
          ]
        },
        {
          "output_type": "display_data",
          "data": {
            "text/plain": [
              "<IPython.core.display.HTML object>"
            ],
            "text/html": [
              "\n",
              "    <div>\n",
              "      \n",
              "      <progress value='664' max='830' style='width:300px; height:20px; vertical-align: middle;'></progress>\n",
              "      [664/830 05:49 < 01:27, 1.89 it/s, Epoch 8/10]\n",
              "    </div>\n",
              "    <table border=\"1\" class=\"dataframe\">\n",
              "  <thead>\n",
              " <tr style=\"text-align: left;\">\n",
              "      <th>Epoch</th>\n",
              "      <th>Training Loss</th>\n",
              "      <th>Validation Loss</th>\n",
              "      <th>Accuracy</th>\n",
              "    </tr>\n",
              "  </thead>\n",
              "  <tbody>\n",
              "    <tr>\n",
              "      <td>1</td>\n",
              "      <td>No log</td>\n",
              "      <td>2.118839</td>\n",
              "      <td>0.418803</td>\n",
              "    </tr>\n",
              "    <tr>\n",
              "      <td>2</td>\n",
              "      <td>2.295700</td>\n",
              "      <td>1.134175</td>\n",
              "      <td>0.858974</td>\n",
              "    </tr>\n",
              "    <tr>\n",
              "      <td>3</td>\n",
              "      <td>1.461900</td>\n",
              "      <td>0.447053</td>\n",
              "      <td>0.961538</td>\n",
              "    </tr>\n",
              "    <tr>\n",
              "      <td>4</td>\n",
              "      <td>0.552100</td>\n",
              "      <td>0.162956</td>\n",
              "      <td>0.982906</td>\n",
              "    </tr>\n",
              "    <tr>\n",
              "      <td>5</td>\n",
              "      <td>0.172100</td>\n",
              "      <td>0.075881</td>\n",
              "      <td>0.987179</td>\n",
              "    </tr>\n",
              "    <tr>\n",
              "      <td>6</td>\n",
              "      <td>0.172100</td>\n",
              "      <td>0.081435</td>\n",
              "      <td>0.978632</td>\n",
              "    </tr>\n",
              "    <tr>\n",
              "      <td>7</td>\n",
              "      <td>0.069700</td>\n",
              "      <td>0.071260</td>\n",
              "      <td>0.982906</td>\n",
              "    </tr>\n",
              "    <tr>\n",
              "      <td>8</td>\n",
              "      <td>0.035200</td>\n",
              "      <td>0.059796</td>\n",
              "      <td>0.987179</td>\n",
              "    </tr>\n",
              "  </tbody>\n",
              "</table><p>"
            ]
          },
          "metadata": {}
        },
        {
          "output_type": "execute_result",
          "data": {
            "text/plain": [
              "TrainOutput(global_step=664, training_loss=0.6924489149487162, metrics={'train_runtime': 350.8469, 'train_samples_per_second': 37.737, 'train_steps_per_second': 2.366, 'total_flos': 696774374547456.0, 'train_loss': 0.6924489149487162, 'epoch': 8.0})"
            ]
          },
          "metadata": {},
          "execution_count": 7
        }
      ]
    },
    {
      "cell_type": "code",
      "metadata": {
        "colab": {
          "base_uri": "https://localhost:8080/",
          "height": 1000
        },
        "id": "f662f45b",
        "outputId": "88fc09a9-6c3d-405b-d30e-504692ed76dd"
      },
      "source": [
        "import json\n",
        "import matplotlib.pyplot as plt\n",
        "import os\n",
        "import pandas as pd\n",
        "\n",
        "def plot_training_metrics(log_history):\n",
        "    \"\"\"Plots training and evaluation metrics from the Trainer's log history.\"\"\"\n",
        "\n",
        "    # Convert log history to a pandas DataFrame\n",
        "    logs_df = pd.DataFrame(log_history)\n",
        "\n",
        "    # Filter out rows without step (these are typically evaluation logs)\n",
        "    train_logs = logs_df.dropna(subset=['step']).set_index('step')\n",
        "    eval_logs = logs_df[logs_df['eval_loss'].notna()].set_index('step')\n",
        "\n",
        "\n",
        "    # Get all metric columns except step, epoch, and learning rate (which we might plot separately)\n",
        "    metric_columns = [col for col in logs_df.columns if col not in ['step', 'epoch', 'learning_rate']]\n",
        "\n",
        "    for metric in metric_columns:\n",
        "        plt.figure(figsize=(10, 6))\n",
        "        if f'eval_{metric}' in logs_df.columns:\n",
        "             plt.plot(train_logs.index, train_logs[metric], label=f'Training {metric}')\n",
        "             plt.plot(eval_logs.index, eval_logs[f'eval_{metric}'], label=f'Evaluation {metric}')\n",
        "             plt.xlabel(\"Step\")\n",
        "             plt.ylabel(metric.replace('_', ' ').title())\n",
        "             plt.title(f'{metric.replace(\"_\", \" \").title()} over Steps')\n",
        "             plt.legend()\n",
        "             plt.grid(True)\n",
        "             plt.show()\n",
        "        elif metric.startswith('eval_'):\n",
        "             # Plot evaluation-only metrics\n",
        "             plt.figure(figsize=(10, 6))\n",
        "             plt.plot(eval_logs.index, eval_logs[metric], label=f'Evaluation {metric.replace(\"eval_\", \"\").replace(\"_\", \" \").title()}')\n",
        "             plt.xlabel(\"Step\")\n",
        "             plt.ylabel(metric.replace(\"eval_\", \"\").replace('_', ' ').title())\n",
        "             plt.title(f'Evaluation {metric.replace(\"eval_\", \"\").replace(\"_\", \" \").title()} over Steps')\n",
        "             plt.legend()\n",
        "             plt.grid(True)\n",
        "             plt.show()\n",
        "\n",
        "\n",
        "    # Plot Learning Rate separately\n",
        "    if 'learning_rate' in train_logs.columns:\n",
        "        plt.figure(figsize=(10, 6))\n",
        "        plt.plot(train_logs.index, train_logs['learning_rate'], label='Learning Rate')\n",
        "        plt.xlabel(\"Step\")\n",
        "        plt.ylabel(\"Learning Rate\")\n",
        "        plt.title(\"Learning Rate over Steps\")\n",
        "        plt.legend()\n",
        "        plt.grid(True)\n",
        "        plt.show()\n",
        "\n",
        "# Assuming trainer is already defined and train() has been called\n",
        "if 'trainer' in locals() and hasattr(trainer, 'state') and hasattr(trainer.state, 'log_history'):\n",
        "    print(\"Plotting metrics...\")\n",
        "    plot_training_metrics(trainer.state.log_history)\n",
        "else:\n",
        "    print(\"Trainer or log history not found. Please train the model first.\")"
      ],
      "execution_count": null,
      "outputs": [
        {
          "output_type": "stream",
          "name": "stdout",
          "text": [
            "Plotting metrics...\n"
          ]
        },
        {
          "output_type": "display_data",
          "data": {
            "text/plain": [
              "<Figure size 1000x600 with 0 Axes>"
            ]
          },
          "metadata": {}
        },
        {
          "output_type": "display_data",
          "data": {
            "text/plain": [
              "<Figure size 1000x600 with 1 Axes>"
            ],
            "image/png": "[encoded data removed]"
          },
          "metadata": {}
        },
        {
          "output_type": "display_data",
          "data": {
            "text/plain": [
              "<Figure size 1000x600 with 0 Axes>"
            ]
          },
          "metadata": {}
        },
        {
          "output_type": "display_data",
          "data": {
            "text/plain": [
              "<Figure size 1000x600 with 1 Axes>"
            ],
            "image/png": "[encoded data removed]"
          },
          "metadata": {}
        },
        {
          "output_type": "display_data",
          "data": {
            "text/plain": [
              "<Figure size 1000x600 with 0 Axes>"
            ]
          },
          "metadata": {}
        },
        {
          "output_type": "display_data",
          "data": {
            "text/plain": [
              "<Figure size 1000x600 with 1 Axes>"
            ],
            "image/png": "[encoded data removed]"
          },
          "metadata": {}
        },
        {
          "output_type": "display_data",
          "data": {
            "text/plain": [
              "<Figure size 1000x600 with 0 Axes>"
            ]
          },
          "metadata": {}
        },
        {
          "output_type": "display_data",
          "data": {
            "text/plain": [
              "<Figure size 1000x600 with 1 Axes>"
            ],
            "image/png": "[encoded data removed]"
          },
          "metadata": {}
        },
        {
          "output_type": "display_data",
          "data": {
            "text/plain": [
              "<Figure size 1000x600 with 0 Axes>"
            ]
          },
          "metadata": {}
        },
        {
          "output_type": "display_data",
          "data": {
            "text/plain": [
              "<Figure size 1000x600 with 1 Axes>"
            ],
            "image/png": "[encoded data removed]"
          },
          "metadata": {}
        },
        {
          "output_type": "display_data",
          "data": {
            "text/plain": [
              "<Figure size 1000x600 with 1 Axes>"
            ],
            "image/png": "[encoded data removed]"
          },
          "metadata": {}
        },
        {
          "output_type": "display_data",
          "data": {
            "text/plain": [
              "<Figure size 1000x600 with 0 Axes>"
            ]
          },
          "metadata": {}
        },
        {
          "output_type": "display_data",
          "data": {
            "text/plain": [
              "<Figure size 1000x600 with 0 Axes>"
            ]
          },
          "metadata": {}
        },
        {
          "output_type": "display_data",
          "data": {
            "text/plain": [
              "<Figure size 1000x600 with 0 Axes>"
            ]
          },
          "metadata": {}
        },
        {
          "output_type": "display_data",
          "data": {
            "text/plain": [
              "<Figure size 1000x600 with 0 Axes>"
            ]
          },
          "metadata": {}
        },
        {
          "output_type": "display_data",
          "data": {
            "text/plain": [
              "<Figure size 1000x600 with 0 Axes>"
            ]
          },
          "metadata": {}
        },
        {
          "output_type": "display_data",
          "data": {
            "text/plain": [
              "<Figure size 1000x600 with 0 Axes>"
            ]
          },
          "metadata": {}
        },
        {
          "output_type": "display_data",
          "data": {
            "text/plain": [
              "<Figure size 1000x600 with 1 Axes>"
            ],
            "image/png": "[encoded data removed]"
          },
          "metadata": {}
        }
      ]
    },
    {
      "cell_type": "code",
      "metadata": {
        "colab": {
          "base_uri": "https://localhost:8080/"
        },
        "id": "0e964c80",
        "outputId": "708ec652-afe2-4740-8eaf-43eb2cac0b84"
      },
      "source": [
        "import pandas as pd\n",
        "\n",
        "if 'trainer' in locals() and hasattr(trainer, 'state') and hasattr(trainer.state, 'log_history'):\n",
        "    logs_df = pd.DataFrame(trainer.state.log_history)\n",
        "\n",
        "    # Filter for evaluation steps\n",
        "    eval_logs = logs_df[logs_df['eval_loss'].notna()]\n",
        "\n",
        "    if not eval_logs.empty:\n",
        "        # Get the last evaluation result (which corresponds to the best model if load_best_model_at_end=True)\n",
        "        final_eval_metrics = eval_logs.iloc[-1]\n",
        "\n",
        "        print(\"Final Evaluation Metrics:\")\n",
        "        for metric, value in final_eval_metrics.items():\n",
        "            if metric.startswith('eval_'):\n",
        "                print(f\"{metric.replace('eval_', '').replace('_', ' ').title()}: {value:.4f}\")\n",
        "    else:\n",
        "        print(\"No evaluation logs found.\")\n",
        "else:\n",
        "    print(\"Trainer or log history not found. Please train the model first.\")"
      ],
      "execution_count": null,
      "outputs": [
        {
          "output_type": "stream",
          "name": "stdout",
          "text": [
            "Final Evaluation Metrics:\n",
            "Loss: 0.0015\n",
            "Accuracy: 1.0000\n",
            "Runtime: 4.8708\n",
            "Samples Per Second: 153.9790\n",
            "Steps Per Second: 9.6490\n"
          ]
        }
      ]
    },
    {
      "cell_type": "code",
      "source": [
        "\n",
        "import pandas as pd\n",
        "import os\n",
        "\n",
        "# Tự động lấy lại đường dẫn từ Bước 2\n",
        "# (Đảm bảo bạn đã chạy cell Bước 2 trước)\n",
        "if 'DATA_CSV_PATH' in locals():\n",
        "    csv_path_to_check = DATA_CSV_PATH\n",
        "\n",
        "    if not os.path.exists(csv_path_to_check):\n",
        "        print(f\"❌ LỖI: Không tìm thấy file tại đường dẫn: {csv_path_to_check}\")\n",
        "        print(\"Vui lòng chạy lại Cell (Bước 2) và kiểm tra lại đường dẫn.\")\n",
        "    else:\n",
        "        try:\n",
        "            # Tải file CSV CHỈ ĐỂ KIỂM TRA\n",
        "            print(f\"Đang tải file từ: {csv_path_to_check}...\")\n",
        "            df_check = pd.read_csv(csv_path_to_check, encoding='utf-8')\n",
        "\n",
        "            # Bỏ qua các dòng không có 'text'\n",
        "            df_check = df_check.dropna(subset=['text'])\n",
        "            df_check['text'] = df_check['text'].astype(str)\n",
        "\n",
        "            total_samples = len(df_check)\n",
        "            unique_samples = df_check['text'].nunique()\n",
        "            duplication_rate = ((total_samples - unique_samples) / total_samples) * 100 if total_samples > 0 else 0\n",
        "\n",
        "            print(\"\\n--- PHÂN TÍCH DỮ LIỆU ---\")\n",
        "            print(f\"✅ Đã tải file thành công.\")\n",
        "            print(f\"Tổng số mẫu (Total samples): {total_samples}\")\n",
        "            print(f\"Số mẫu DUY NHẤT (Unique samples): {unique_samples}\")\n",
        "            print(f\"Tỷ lệ trùng lặp (Duplication rate): {duplication_rate:.2f}%\")\n",
        "            print(\"--------------------------\")\n",
        "\n",
        "            if duplication_rate > 50:\n",
        "                print(\"⚠️ CẢNH BÁO: Tỷ lệ trùng lặp rất cao! Model của bạn có thể bị 'học vẹt'.\")\n",
        "                print(\"-> Đây là lý do tại sao accuracy = 1.0 (100%).\")\n",
        "                print(\"-> Hãy làm theo hướng dẫn 'Kiếm dữ liệu đâu ra' để xây dựng bộ dữ liệu 'xịn' hơn.\")\n",
        "\n",
        "        except Exception as e:\n",
        "            print(f\"❌ Lỗi khi đọc file CSV: {e}\")\n",
        "\n",
        "else:\n",
        "    print(\"❌ Không tìm thấy biến 'DATA_5K_CSV_PATH'.\")\n",
        "    print(\"Vui lòng chạy lại Cell (Bước 2) trước.\")\n",
        "\n"
      ],
      "metadata": {
        "colab": {
          "base_uri": "https://localhost:8080/"
        },
        "id": "G7ZepsAyJ4TW",
        "outputId": "202365de-cefc-4a41-d48c-0b2a9f34f2b0"
      },
      "execution_count": null,
      "outputs": [
        {
          "output_type": "stream",
          "name": "stdout",
          "text": [
            "Đang tải file từ: /content/drive/My Drive/Medical_Chatbot/Data/medical_intent_dataset_v4_balanced.csv...\n",
            "\n",
            "--- PHÂN TÍCH DỮ LIỆU ---\n",
            "✅ Đã tải file thành công.\n",
            "Tổng số mẫu (Total samples): 1558\n",
            "Số mẫu DUY NHẤT (Unique samples): 1558\n",
            "Tỷ lệ trùng lặp (Duplication rate): 0.00%\n",
            "--------------------------\n"
          ]
        }
      ]
    },
    {
      "cell_type": "code",
      "source": [
        "print(\"📊 Đánh giá model NER tốt nhất trên tập eval...\")\n",
        "eval_results = trainer.evaluate()\n",
        "print(f\"Kết quả đánh giá NER: {eval_results}\")\n",
        "\n",
        "# 2. Lưu model tốt nhất\n",
        "print(f\"💾 Đang lưu model NER tốt nhất vào: {MODEL_SAVE_PATH}\")\n",
        "trainer.save_model(MODEL_SAVE_PATH)\n",
        "phobert_tokenizer.save_pretrained(MODEL_SAVE_PATH) # Corrected tokenizer variable name\n",
        "\n",
        "print(\"🎉 Huấn luyện NER Deep Learning hoàn tất! Model đã được lưu vào Google Drive.\")"
      ],
      "metadata": {
        "colab": {
          "base_uri": "https://localhost:8080/",
          "height": 126
        },
        "id": "OjDbBCrKWpHm",
        "outputId": "3ef5a619-962d-42e1-dd37-53e6f742bd9e"
      },
      "execution_count": null,
      "outputs": [
        {
          "output_type": "stream",
          "name": "stdout",
          "text": [
            "📊 Đánh giá model NER tốt nhất trên tập eval...\n"
          ]
        },
        {
          "output_type": "display_data",
          "data": {
            "text/plain": [
              "<IPython.core.display.HTML object>"
            ],
            "text/html": [
              "\n",
              "    <div>\n",
              "      \n",
              "      <progress value='30' max='15' style='width:300px; height:20px; vertical-align: middle;'></progress>\n",
              "      [15/15 01:55]\n",
              "    </div>\n",
              "    "
            ]
          },
          "metadata": {}
        },
        {
          "output_type": "stream",
          "name": "stdout",
          "text": [
            "Kết quả đánh giá NER: {'eval_loss': 0.0758805200457573, 'eval_accuracy': 0.9871794871794872, 'eval_runtime': 1.4966, 'eval_samples_per_second': 156.355, 'eval_steps_per_second': 10.023, 'epoch': 8.0}\n",
            "💾 Đang lưu model NER tốt nhất vào: /content/drive/My Drive/Medical_Chatbot/Model/intent_dl_phobert_v2\n",
            "🎉 Huấn luyện NER Deep Learning hoàn tất! Model đã được lưu vào Google Drive.\n"
          ]
        }
      ]
    },
    {
      "cell_type": "code",
      "source": [
        "from transformers import pipeline, PhobertTokenizer # Import PhobertTokenizer\n",
        "\n",
        "# 1. Tải pipeline đã huấn luyện\n",
        "# device=0 nghĩa là dùng GPU 0, -1 là dùng CPU\n",
        "ner_pipeline = pipeline(\n",
        "    \"text-classification\", # Changed task to text-classification\n",
        "    model=MODEL_SAVE_PATH,\n",
        "    tokenizer=PhobertTokenizer.from_pretrained(MODEL_SAVE_PATH), # Explicitly load PhobertTokenizer\n",
        "    device=0 if torch.cuda.is_available() else -1\n",
        ")\n",
        "\n",
        "# 2. Chạy test\n",
        "test_cases_ner = [\n",
        "    # Ca test cũ bị lỗi\n",
        "    \"Bé trai 2 tuổi nuốt phải pin cúc áo và khóc thét\",\n",
        "    \"SOS! Người phụ nữ 45 tuổi bị va chạm xe máy gãy cẳng chân hở\",\n",
        "    \"Đau đầu quá đi ,Stress nữa\",\n",
        "\n",
        "    # Ca test bình thường\n",
        "    \"Bệnh nhân nam 38 tuổi đau bụng thượng vị kèm ợ chua và nóng rát dạ dày từ 5 ngày\",\n",
        "    \"Cháu gái 14 tuổi bị mệt mỏi thường xuyên và da xanh xao gần đây\",\n",
        "    \"Bác sĩ kê đơn cefixime 200mg uống 12 tiếng một lần trong 7 ngày\",\n",
        "\n",
        "    \"Đau răng quá đi\",\n",
        "    \"Con mẹ mày\",\n",
        "\n",
        "    \"Tao không ngủ buổi đêm được Tao chỉ ngủ được buổi sáng thôi\"\n",
        "]\n",
        "\n",
        "print(\"\\n--- KẾT QUẢ TEST THỬ NER ---\")\n",
        "for text in test_cases_ner:\n",
        "    print(f\"Input: '{text}'\")\n",
        "    # The pipeline output structure is different for text-classification\n",
        "    results = ner_pipeline(text)\n",
        "    print(\"-> Prediction:\")\n",
        "    if results:\n",
        "        # For text-classification, results is a list of dictionaries, e.g., [{'label': 'LABEL_0', 'score': 0.99}]\n",
        "        prediction = results[0]\n",
        "        predicted_intent = prediction['label']\n",
        "        score = prediction['score']\n",
        "        print(f\"   - Intent: {predicted_intent} (Score: {score:.4f})\")\n",
        "    else:\n",
        "        print(\"   (Không có dự đoán)\")\n",
        "    print(\"-\" * 20)"
      ],
      "metadata": {
        "colab": {
          "base_uri": "https://localhost:8080/"
        },
        "id": "QFZ47ytJW1T9",
        "outputId": "af7545dc-fb5c-4e8f-fc8f-328508c7bcd4"
      },
      "execution_count": null,
      "outputs": [
        {
          "output_type": "stream",
          "name": "stderr",
          "text": [
            "Device set to use cuda:0\n"
          ]
        },
        {
          "output_type": "stream",
          "name": "stdout",
          "text": [
            "\n",
            "--- KẾT QUẢ TEST THỬ NER ---\n",
            "Input: 'Bé trai 2 tuổi nuốt phải pin cúc áo và khóc thét'\n",
            "-> Prediction:\n",
            "   - Intent: emergency (Score: 0.9399)\n",
            "--------------------\n",
            "Input: 'SOS! Người phụ nữ 45 tuổi bị va chạm xe máy gãy cẳng chân hở'\n",
            "-> Prediction:\n",
            "   - Intent: emergency (Score: 0.9592)\n",
            "--------------------\n",
            "Input: 'Đau đầu quá đi ,Stress nữa'\n",
            "-> Prediction:\n",
            "   - Intent: symptom_inquiry (Score: 0.9835)\n",
            "--------------------\n",
            "Input: 'Bệnh nhân nam 38 tuổi đau bụng thượng vị kèm ợ chua và nóng rát dạ dày từ 5 ngày'\n",
            "-> Prediction:\n",
            "   - Intent: symptom_inquiry (Score: 0.6072)\n",
            "--------------------\n",
            "Input: 'Cháu gái 14 tuổi bị mệt mỏi thường xuyên và da xanh xao gần đây'\n",
            "-> Prediction:\n",
            "   - Intent: symptom_inquiry (Score: 0.6991)\n",
            "--------------------\n",
            "Input: 'Bác sĩ kê đơn cefixime 200mg uống 12 tiếng một lần trong 7 ngày'\n",
            "-> Prediction:\n",
            "   - Intent: dosage_question (Score: 0.8270)\n",
            "--------------------\n",
            "Input: 'Đau răng quá đi'\n",
            "-> Prediction:\n",
            "   - Intent: symptom_inquiry (Score: 0.9855)\n",
            "--------------------\n",
            "Input: 'Con mẹ mày'\n",
            "-> Prediction:\n",
            "   - Intent: greeting (Score: 0.7282)\n",
            "--------------------\n",
            "Input: 'Tao không ngủ buổi đêm được Tao chỉ ngủ được buổi sáng thôi'\n",
            "-> Prediction:\n",
            "   - Intent: symptom_inquiry (Score: 0.9777)\n",
            "--------------------\n"
          ]
        }
      ]
    }
  ],
  "metadata": {
    "colab": {
      "provenance": [],
      "gpuType": "T4"
    },
    "kernelspec": {
      "display_name": "Python 3",
      "name": "python3"
    },
    "accelerator": "GPU",
    "widgets": {
      "application/vnd.jupyter.widget-state+json": {
        "84745ce691824db8ab6acccd43f82e8a": {
          "model_module": "@jupyter-widgets/controls",
          "model_name": "HBoxModel",
          "model_module_version": "1.5.0",
          "state": {
            "_dom_classes": [],
            "_model_module": "@jupyter-widgets/controls",
            "_model_module_version": "1.5.0",
            "_model_name": "HBoxModel",
            "_view_count": null,
            "_view_module": "@jupyter-widgets/controls",
            "_view_module_version": "1.5.0",
            "_view_name": "HBoxView",
            "box_style": "",
            "children": [
              "IPY_MODEL_8054327ddf134f0e9ac60c8c7b3d8df7",
              "IPY_MODEL_fe97e40e6e7f47aa89c854d1b0506c8c",
              "IPY_MODEL_5c5030639bd847bda244dbca3dc863fe"
            ],
            "layout": "IPY_MODEL_f8c5f67b272b48e6803538ef22206b0a"
          }
        },
        "8054327ddf134f0e9ac60c8c7b3d8df7": {
          "model_module": "@jupyter-widgets/controls",
          "model_name": "HTMLModel",
          "model_module_version": "1.5.0",
          "state": {
            "_dom_classes": [],
            "_model_module": "@jupyter-widgets/controls",
            "_model_module_version": "1.5.0",
            "_model_name": "HTMLModel",
            "_view_count": null,
            "_view_module": "@jupyter-widgets/controls",
            "_view_module_version": "1.5.0",
            "_view_name": "HTMLView",
            "description": "",
            "description_tooltip": null,
            "layout": "IPY_MODEL_41604fac30b947d7a33bec494056228f",
            "placeholder": "​",
            "style": "IPY_MODEL_90c71a238b134e9292b46a7b1d173b3e",
            "value": "config.json: 100%"
          }
        },
        "fe97e40e6e7f47aa89c854d1b0506c8c": {
          "model_module": "@jupyter-widgets/controls",
          "model_name": "FloatProgressModel",
          "model_module_version": "1.5.0",
          "state": {
            "_dom_classes": [],
            "_model_module": "@jupyter-widgets/controls",
            "_model_module_version": "1.5.0",
            "_model_name": "FloatProgressModel",
            "_view_count": null,
            "_view_module": "@jupyter-widgets/controls",
            "_view_module_version": "1.5.0",
            "_view_name": "ProgressView",
            "bar_style": "success",
            "description": "",
            "description_tooltip": null,
            "layout": "IPY_MODEL_027f14345b4246e8af7e190452fdf04b",
            "max": 678,
            "min": 0,
            "orientation": "horizontal",
            "style": "IPY_MODEL_73f03f1c70114c86af84638ad7a8b9ea",
            "value": 678
          }
        },
        "5c5030639bd847bda244dbca3dc863fe": {
          "model_module": "@jupyter-widgets/controls",
          "model_name": "HTMLModel",
          "model_module_version": "1.5.0",
          "state": {
            "_dom_classes": [],
            "_model_module": "@jupyter-widgets/controls",
            "_model_module_version": "1.5.0",
            "_model_name": "HTMLModel",
            "_view_count": null,
            "_view_module": "@jupyter-widgets/controls",
            "_view_module_version": "1.5.0",
            "_view_name": "HTMLView",
            "description": "",
            "description_tooltip": null,
            "layout": "IPY_MODEL_8c41593dca2440c7aebb22ea9852da77",
            "placeholder": "​",
            "style": "IPY_MODEL_e3353eb692a0498ab9a96e92e66e2dd5",
            "value": " 678/678 [00:00&lt;00:00, 54.3kB/s]"
          }
        },
        "f8c5f67b272b48e6803538ef22206b0a": {
          "model_module": "@jupyter-widgets/base",
          "model_name": "LayoutModel",
          "model_module_version": "1.2.0",
          "state": {
            "_model_module": "@jupyter-widgets/base",
            "_model_module_version": "1.2.0",
            "_model_name": "LayoutModel",
            "_view_count": null,
            "_view_module": "@jupyter-widgets/base",
            "_view_module_version": "1.2.0",
            "_view_name": "LayoutView",
            "align_content": null,
            "align_items": null,
            "align_self": null,
            "border": null,
            "bottom": null,
            "display": null,
            "flex": null,
            "flex_flow": null,
            "grid_area": null,
            "grid_auto_columns": null,
            "grid_auto_flow": null,
            "grid_auto_rows": null,
            "grid_column": null,
            "grid_gap": null,
            "grid_row": null,
            "grid_template_areas": null,
            "grid_template_columns": null,
            "grid_template_rows": null,
            "height": null,
            "justify_content": null,
            "justify_items": null,
            "left": null,
            "margin": null,
            "max_height": null,
            "max_width": null,
            "min_height": null,
            "min_width": null,
            "object_fit": null,
            "object_position": null,
            "order": null,
            "overflow": null,
            "overflow_x": null,
            "overflow_y": null,
            "padding": null,
            "right": null,
            "top": null,
            "visibility": null,
            "width": null
          }
        },
        "41604fac30b947d7a33bec494056228f": {
          "model_module": "@jupyter-widgets/base",
          "model_name": "LayoutModel",
          "model_module_version": "1.2.0",
          "state": {
            "_model_module": "@jupyter-widgets/base",
            "_model_module_version": "1.2.0",
            "_model_name": "LayoutModel",
            "_view_count": null,
            "_view_module": "@jupyter-widgets/base",
            "_view_module_version": "1.2.0",
            "_view_name": "LayoutView",
            "align_content": null,
            "align_items": null,
            "align_self": null,
            "border": null,
            "bottom": null,
            "display": null,
            "flex": null,
            "flex_flow": null,
            "grid_area": null,
            "grid_auto_columns": null,
            "grid_auto_flow": null,
            "grid_auto_rows": null,
            "grid_column": null,
            "grid_gap": null,
            "grid_row": null,
            "grid_template_areas": null,
            "grid_template_columns": null,
            "grid_template_rows": null,
            "height": null,
            "justify_content": null,
            "justify_items": null,
            "left": null,
            "margin": null,
            "max_height": null,
            "max_width": null,
            "min_height": null,
            "min_width": null,
            "object_fit": null,
            "object_position": null,
            "order": null,
            "overflow": null,
            "overflow_x": null,
            "overflow_y": null,
            "padding": null,
            "right": null,
            "top": null,
            "visibility": null,
            "width": null
          }
        },
        "90c71a238b134e9292b46a7b1d173b3e": {
          "model_module": "@jupyter-widgets/controls",
          "model_name": "DescriptionStyleModel",
          "model_module_version": "1.5.0",
          "state": {
            "_model_module": "@jupyter-widgets/controls",
            "_model_module_version": "1.5.0",
            "_model_name": "DescriptionStyleModel",
            "_view_count": null,
            "_view_module": "@jupyter-widgets/base",
            "_view_module_version": "1.2.0",
            "_view_name": "StyleView",
            "description_width": ""
          }
        },
        "027f14345b4246e8af7e190452fdf04b": {
          "model_module": "@jupyter-widgets/base",
          "model_name": "LayoutModel",
          "model_module_version": "1.2.0",
          "state": {
            "_model_module": "@jupyter-widgets/base",
            "_model_module_version": "1.2.0",
            "_model_name": "LayoutModel",
            "_view_count": null,
            "_view_module": "@jupyter-widgets/base",
            "_view_module_version": "1.2.0",
            "_view_name": "LayoutView",
            "align_content": null,
            "align_items": null,
            "align_self": null,
            "border": null,
            "bottom": null,
            "display": null,
            "flex": null,
            "flex_flow": null,
            "grid_area": null,
            "grid_auto_columns": null,
            "grid_auto_flow": null,
            "grid_auto_rows": null,
            "grid_column": null,
            "grid_gap": null,
            "grid_row": null,
            "grid_template_areas": null,
            "grid_template_columns": null,
            "grid_template_rows": null,
            "height": null,
            "justify_content": null,
            "justify_items": null,
            "left": null,
            "margin": null,
            "max_height": null,
            "max_width": null,
            "min_height": null,
            "min_width": null,
            "object_fit": null,
            "object_position": null,
            "order": null,
            "overflow": null,
            "overflow_x": null,
            "overflow_y": null,
            "padding": null,
            "right": null,
            "top": null,
            "visibility": null,
            "width": null
          }
        },
        "73f03f1c70114c86af84638ad7a8b9ea": {
          "model_module": "@jupyter-widgets/controls",
          "model_name": "ProgressStyleModel",
          "model_module_version": "1.5.0",
          "state": {
            "_model_module": "@jupyter-widgets/controls",
            "_model_module_version": "1.5.0",
            "_model_name": "ProgressStyleModel",
            "_view_count": null,
            "_view_module": "@jupyter-widgets/base",
            "_view_module_version": "1.2.0",
            "_view_name": "StyleView",
            "bar_color": null,
            "description_width": ""
          }
        },
        "8c41593dca2440c7aebb22ea9852da77": {
          "model_module": "@jupyter-widgets/base",
          "model_name": "LayoutModel",
          "model_module_version": "1.2.0",
          "state": {
            "_model_module": "@jupyter-widgets/base",
            "_model_module_version": "1.2.0",
            "_model_name": "LayoutModel",
            "_view_count": null,
            "_view_module": "@jupyter-widgets/base",
            "_view_module_version": "1.2.0",
            "_view_name": "LayoutView",
            "align_content": null,
            "align_items": null,
            "align_self": null,
            "border": null,
            "bottom": null,
            "display": null,
            "flex": null,
            "flex_flow": null,
            "grid_area": null,
            "grid_auto_columns": null,
            "grid_auto_flow": null,
            "grid_auto_rows": null,
            "grid_column": null,
            "grid_gap": null,
            "grid_row": null,
            "grid_template_areas": null,
            "grid_template_columns": null,
            "grid_template_rows": null,
            "height": null,
            "justify_content": null,
            "justify_items": null,
            "left": null,
            "margin": null,
            "max_height": null,
            "max_width": null,
            "min_height": null,
            "min_width": null,
            "object_fit": null,
            "object_position": null,
            "order": null,
            "overflow": null,
            "overflow_x": null,
            "overflow_y": null,
            "padding": null,
            "right": null,
            "top": null,
            "visibility": null,
            "width": null
          }
        },
        "e3353eb692a0498ab9a96e92e66e2dd5": {
          "model_module": "@jupyter-widgets/controls",
          "model_name": "DescriptionStyleModel",
          "model_module_version": "1.5.0",
          "state": {
            "_model_module": "@jupyter-widgets/controls",
            "_model_module_version": "1.5.0",
            "_model_name": "DescriptionStyleModel",
            "_view_count": null,
            "_view_module": "@jupyter-widgets/base",
            "_view_module_version": "1.2.0",
            "_view_name": "StyleView",
            "description_width": ""
          }
        },
        "9e33161f36c34bddac1d90997e1f8533": {
          "model_module": "@jupyter-widgets/controls",
          "model_name": "HBoxModel",
          "model_module_version": "1.5.0",
          "state": {
            "_dom_classes": [],
            "_model_module": "@jupyter-widgets/controls",
            "_model_module_version": "1.5.0",
            "_model_name": "HBoxModel",
            "_view_count": null,
            "_view_module": "@jupyter-widgets/controls",
            "_view_module_version": "1.5.0",
            "_view_name": "HBoxView",
            "box_style": "",
            "children": [
              "IPY_MODEL_6d0fa3a9c13e477db319772798f47954",
              "IPY_MODEL_9ef056789c874195a4665e844228fd7a",
              "IPY_MODEL_f4bc2adb3c0842539b25960422272030"
            ],
            "layout": "IPY_MODEL_de2afe8bb88544b38ee95b98bf90f6c2"
          }
        },
        "6d0fa3a9c13e477db319772798f47954": {
          "model_module": "@jupyter-widgets/controls",
          "model_name": "HTMLModel",
          "model_module_version": "1.5.0",
          "state": {
            "_dom_classes": [],
            "_model_module": "@jupyter-widgets/controls",
            "_model_module_version": "1.5.0",
            "_model_name": "HTMLModel",
            "_view_count": null,
            "_view_module": "@jupyter-widgets/controls",
            "_view_module_version": "1.5.0",
            "_view_name": "HTMLView",
            "description": "",
            "description_tooltip": null,
            "layout": "IPY_MODEL_9e61c89fffdf41bbaea3ca9775dc4b8f",
            "placeholder": "​",
            "style": "IPY_MODEL_dfb89e73f8dd4f878b02d0bcbf39cc5a",
            "value": "vocab.txt: "
          }
        },
        "9ef056789c874195a4665e844228fd7a": {
          "model_module": "@jupyter-widgets/controls",
          "model_name": "FloatProgressModel",
          "model_module_version": "1.5.0",
          "state": {
            "_dom_classes": [],
            "_model_module": "@jupyter-widgets/controls",
            "_model_module_version": "1.5.0",
            "_model_name": "FloatProgressModel",
            "_view_count": null,
            "_view_module": "@jupyter-widgets/controls",
            "_view_module_version": "1.5.0",
            "_view_name": "ProgressView",
            "bar_style": "success",
            "description": "",
            "description_tooltip": null,
            "layout": "IPY_MODEL_82e3c033a9ae4dfb899859d5207b58ee",
            "max": 1,
            "min": 0,
            "orientation": "horizontal",
            "style": "IPY_MODEL_45de62805e12475abd72e304114582fc",
            "value": 1
          }
        },
        "f4bc2adb3c0842539b25960422272030": {
          "model_module": "@jupyter-widgets/controls",
          "model_name": "HTMLModel",
          "model_module_version": "1.5.0",
          "state": {
            "_dom_classes": [],
            "_model_module": "@jupyter-widgets/controls",
            "_model_module_version": "1.5.0",
            "_model_name": "HTMLModel",
            "_view_count": null,
            "_view_module": "@jupyter-widgets/controls",
            "_view_module_version": "1.5.0",
            "_view_name": "HTMLView",
            "description": "",
            "description_tooltip": null,
            "layout": "IPY_MODEL_5a00a546a1ee417e8109df09a9bcd2d9",
            "placeholder": "​",
            "style": "IPY_MODEL_2ceacad299284b7288ac15b20a0dfe4f",
            "value": " 895k/? [00:00&lt;00:00, 20.8MB/s]"
          }
        },
        "de2afe8bb88544b38ee95b98bf90f6c2": {
          "model_module": "@jupyter-widgets/base",
          "model_name": "LayoutModel",
          "model_module_version": "1.2.0",
          "state": {
            "_model_module": "@jupyter-widgets/base",
            "_model_module_version": "1.2.0",
            "_model_name": "LayoutModel",
            "_view_count": null,
            "_view_module": "@jupyter-widgets/base",
            "_view_module_version": "1.2.0",
            "_view_name": "LayoutView",
            "align_content": null,
            "align_items": null,
            "align_self": null,
            "border": null,
            "bottom": null,
            "display": null,
            "flex": null,
            "flex_flow": null,
            "grid_area": null,
            "grid_auto_columns": null,
            "grid_auto_flow": null,
            "grid_auto_rows": null,
            "grid_column": null,
            "grid_gap": null,
            "grid_row": null,
            "grid_template_areas": null,
            "grid_template_columns": null,
            "grid_template_rows": null,
            "height": null,
            "justify_content": null,
            "justify_items": null,
            "left": null,
            "margin": null,
            "max_height": null,
            "max_width": null,
            "min_height": null,
            "min_width": null,
            "object_fit": null,
            "object_position": null,
            "order": null,
            "overflow": null,
            "overflow_x": null,
            "overflow_y": null,
            "padding": null,
            "right": null,
            "top": null,
            "visibility": null,
            "width": null
          }
        },
        "9e61c89fffdf41bbaea3ca9775dc4b8f": {
          "model_module": "@jupyter-widgets/base",
          "model_name": "LayoutModel",
          "model_module_version": "1.2.0",
          "state": {
            "_model_module": "@jupyter-widgets/base",
            "_model_module_version": "1.2.0",
            "_model_name": "LayoutModel",
            "_view_count": null,
            "_view_module": "@jupyter-widgets/base",
            "_view_module_version": "1.2.0",
            "_view_name": "LayoutView",
            "align_content": null,
            "align_items": null,
            "align_self": null,
            "border": null,
            "bottom": null,
            "display": null,
            "flex": null,
            "flex_flow": null,
            "grid_area": null,
            "grid_auto_columns": null,
            "grid_auto_flow": null,
            "grid_auto_rows": null,
            "grid_column": null,
            "grid_gap": null,
            "grid_row": null,
            "grid_template_areas": null,
            "grid_template_columns": null,
            "grid_template_rows": null,
            "height": null,
            "justify_content": null,
            "justify_items": null,
            "left": null,
            "margin": null,
            "max_height": null,
            "max_width": null,
            "min_height": null,
            "min_width": null,
            "object_fit": null,
            "object_position": null,
            "order": null,
            "overflow": null,
            "overflow_x": null,
            "overflow_y": null,
            "padding": null,
            "right": null,
            "top": null,
            "visibility": null,
            "width": null
          }
        },
        "dfb89e73f8dd4f878b02d0bcbf39cc5a": {
          "model_module": "@jupyter-widgets/controls",
          "model_name": "DescriptionStyleModel",
          "model_module_version": "1.5.0",
          "state": {
            "_model_module": "@jupyter-widgets/controls",
            "_model_module_version": "1.5.0",
            "_model_name": "DescriptionStyleModel",
            "_view_count": null,
            "_view_module": "@jupyter-widgets/base",
            "_view_module_version": "1.2.0",
            "_view_name": "StyleView",
            "description_width": ""
          }
        },
        "82e3c033a9ae4dfb899859d5207b58ee": {
          "model_module": "@jupyter-widgets/base",
          "model_name": "LayoutModel",
          "model_module_version": "1.2.0",
          "state": {
            "_model_module": "@jupyter-widgets/base",
            "_model_module_version": "1.2.0",
            "_model_name": "LayoutModel",
            "_view_count": null,
            "_view_module": "@jupyter-widgets/base",
            "_view_module_version": "1.2.0",
            "_view_name": "LayoutView",
            "align_content": null,
            "align_items": null,
            "align_self": null,
            "border": null,
            "bottom": null,
            "display": null,
            "flex": null,
            "flex_flow": null,
            "grid_area": null,
            "grid_auto_columns": null,
            "grid_auto_flow": null,
            "grid_auto_rows": null,
            "grid_column": null,
            "grid_gap": null,
            "grid_row": null,
            "grid_template_areas": null,
            "grid_template_columns": null,
            "grid_template_rows": null,
            "height": null,
            "justify_content": null,
            "justify_items": null,
            "left": null,
            "margin": null,
            "max_height": null,
            "max_width": null,
            "min_height": null,
            "min_width": null,
            "object_fit": null,
            "object_position": null,
            "order": null,
            "overflow": null,
            "overflow_x": null,
            "overflow_y": null,
            "padding": null,
            "right": null,
            "top": null,
            "visibility": null,
            "width": "20px"
          }
        },
        "45de62805e12475abd72e304114582fc": {
          "model_module": "@jupyter-widgets/controls",
          "model_name": "ProgressStyleModel",
          "model_module_version": "1.5.0",
          "state": {
            "_model_module": "@jupyter-widgets/controls",
            "_model_module_version": "1.5.0",
            "_model_name": "ProgressStyleModel",
            "_view_count": null,
            "_view_module": "@jupyter-widgets/base",
            "_view_module_version": "1.2.0",
            "_view_name": "StyleView",
            "bar_color": null,
            "description_width": ""
          }
        },
        "5a00a546a1ee417e8109df09a9bcd2d9": {
          "model_module": "@jupyter-widgets/base",
          "model_name": "LayoutModel",
          "model_module_version": "1.2.0",
          "state": {
            "_model_module": "@jupyter-widgets/base",
            "_model_module_version": "1.2.0",
            "_model_name": "LayoutModel",
            "_view_count": null,
            "_view_module": "@jupyter-widgets/base",
            "_view_module_version": "1.2.0",
            "_view_name": "LayoutView",
            "align_content": null,
            "align_items": null,
            "align_self": null,
            "border": null,
            "bottom": null,
            "display": null,
            "flex": null,
            "flex_flow": null,
            "grid_area": null,
            "grid_auto_columns": null,
            "grid_auto_flow": null,
            "grid_auto_rows": null,
            "grid_column": null,
            "grid_gap": null,
            "grid_row": null,
            "grid_template_areas": null,
            "grid_template_columns": null,
            "grid_template_rows": null,
            "height": null,
            "justify_content": null,
            "justify_items": null,
            "left": null,
            "margin": null,
            "max_height": null,
            "max_width": null,
            "min_height": null,
            "min_width": null,
            "object_fit": null,
            "object_position": null,
            "order": null,
            "overflow": null,
            "overflow_x": null,
            "overflow_y": null,
            "padding": null,
            "right": null,
            "top": null,
            "visibility": null,
            "width": null
          }
        },
        "2ceacad299284b7288ac15b20a0dfe4f": {
          "model_module": "@jupyter-widgets/controls",
          "model_name": "DescriptionStyleModel",
          "model_module_version": "1.5.0",
          "state": {
            "_model_module": "@jupyter-widgets/controls",
            "_model_module_version": "1.5.0",
            "_model_name": "DescriptionStyleModel",
            "_view_count": null,
            "_view_module": "@jupyter-widgets/base",
            "_view_module_version": "1.2.0",
            "_view_name": "StyleView",
            "description_width": ""
          }
        },
        "95ee123d936240369c4c84dcd0da2b88": {
          "model_module": "@jupyter-widgets/controls",
          "model_name": "HBoxModel",
          "model_module_version": "1.5.0",
          "state": {
            "_dom_classes": [],
            "_model_module": "@jupyter-widgets/controls",
            "_model_module_version": "1.5.0",
            "_model_name": "HBoxModel",
            "_view_count": null,
            "_view_module": "@jupyter-widgets/controls",
            "_view_module_version": "1.5.0",
            "_view_name": "HBoxView",
            "box_style": "",
            "children": [
              "IPY_MODEL_c808f6fc1a6a4d4c812be4434f177f20",
              "IPY_MODEL_7122c9a357654ecaba9811229c159be9",
              "IPY_MODEL_c4a74178360147e9846fe22570809bae"
            ],
            "layout": "IPY_MODEL_1efc815a7071494cbbebb4985bc1e0c1"
          }
        },
        "c808f6fc1a6a4d4c812be4434f177f20": {
          "model_module": "@jupyter-widgets/controls",
          "model_name": "HTMLModel",
          "model_module_version": "1.5.0",
          "state": {
            "_dom_classes": [],
            "_model_module": "@jupyter-widgets/controls",
            "_model_module_version": "1.5.0",
            "_model_name": "HTMLModel",
            "_view_count": null,
            "_view_module": "@jupyter-widgets/controls",
            "_view_module_version": "1.5.0",
            "_view_name": "HTMLView",
            "description": "",
            "description_tooltip": null,
            "layout": "IPY_MODEL_36d5048d3a1e44fd8cc605b6bf77c1a5",
            "placeholder": "​",
            "style": "IPY_MODEL_33de965f1e0a4707b431d1893483c8b3",
            "value": "bpe.codes: "
          }
        },
        "7122c9a357654ecaba9811229c159be9": {
          "model_module": "@jupyter-widgets/controls",
          "model_name": "FloatProgressModel",
          "model_module_version": "1.5.0",
          "state": {
            "_dom_classes": [],
            "_model_module": "@jupyter-widgets/controls",
            "_model_module_version": "1.5.0",
            "_model_name": "FloatProgressModel",
            "_view_count": null,
            "_view_module": "@jupyter-widgets/controls",
            "_view_module_version": "1.5.0",
            "_view_name": "ProgressView",
            "bar_style": "success",
            "description": "",
            "description_tooltip": null,
            "layout": "IPY_MODEL_cac03e7ebef746388e68b231f4efa904",
            "max": 1,
            "min": 0,
            "orientation": "horizontal",
            "style": "IPY_MODEL_80680af6bd6d4361b0f01a0a47e65a3d",
            "value": 1
          }
        },
        "c4a74178360147e9846fe22570809bae": {
          "model_module": "@jupyter-widgets/controls",
          "model_name": "HTMLModel",
          "model_module_version": "1.5.0",
          "state": {
            "_dom_classes": [],
            "_model_module": "@jupyter-widgets/controls",
            "_model_module_version": "1.5.0",
            "_model_name": "HTMLModel",
            "_view_count": null,
            "_view_module": "@jupyter-widgets/controls",
            "_view_module_version": "1.5.0",
            "_view_name": "HTMLView",
            "description": "",
            "description_tooltip": null,
            "layout": "IPY_MODEL_9c8b4671a7a44aa9b65cc5cc75ce86bc",
            "placeholder": "​",
            "style": "IPY_MODEL_076cb66fdaed4910bba1a4bec98cc859",
            "value": " 1.14M/? [00:00&lt;00:00, 46.6MB/s]"
          }
        },
        "1efc815a7071494cbbebb4985bc1e0c1": {
          "model_module": "@jupyter-widgets/base",
          "model_name": "LayoutModel",
          "model_module_version": "1.2.0",
          "state": {
            "_model_module": "@jupyter-widgets/base",
            "_model_module_version": "1.2.0",
            "_model_name": "LayoutModel",
            "_view_count": null,
            "_view_module": "@jupyter-widgets/base",
            "_view_module_version": "1.2.0",
            "_view_name": "LayoutView",
            "align_content": null,
            "align_items": null,
            "align_self": null,
            "border": null,
            "bottom": null,
            "display": null,
            "flex": null,
            "flex_flow": null,
            "grid_area": null,
            "grid_auto_columns": null,
            "grid_auto_flow": null,
            "grid_auto_rows": null,
            "grid_column": null,
            "grid_gap": null,
            "grid_row": null,
            "grid_template_areas": null,
            "grid_template_columns": null,
            "grid_template_rows": null,
            "height": null,
            "justify_content": null,
            "justify_items": null,
            "left": null,
            "margin": null,
            "max_height": null,
            "max_width": null,
            "min_height": null,
            "min_width": null,
            "object_fit": null,
            "object_position": null,
            "order": null,
            "overflow": null,
            "overflow_x": null,
            "overflow_y": null,
            "padding": null,
            "right": null,
            "top": null,
            "visibility": null,
            "width": null
          }
        },
        "36d5048d3a1e44fd8cc605b6bf77c1a5": {
          "model_module": "@jupyter-widgets/base",
          "model_name": "LayoutModel",
          "model_module_version": "1.2.0",
          "state": {
            "_model_module": "@jupyter-widgets/base",
            "_model_module_version": "1.2.0",
            "_model_name": "LayoutModel",
            "_view_count": null,
            "_view_module": "@jupyter-widgets/base",
            "_view_module_version": "1.2.0",
            "_view_name": "LayoutView",
            "align_content": null,
            "align_items": null,
            "align_self": null,
            "border": null,
            "bottom": null,
            "display": null,
            "flex": null,
            "flex_flow": null,
            "grid_area": null,
            "grid_auto_columns": null,
            "grid_auto_flow": null,
            "grid_auto_rows": null,
            "grid_column": null,
            "grid_gap": null,
            "grid_row": null,
            "grid_template_areas": null,
            "grid_template_columns": null,
            "grid_template_rows": null,
            "height": null,
            "justify_content": null,
            "justify_items": null,
            "left": null,
            "margin": null,
            "max_height": null,
            "max_width": null,
            "min_height": null,
            "min_width": null,
            "object_fit": null,
            "object_position": null,
            "order": null,
            "overflow": null,
            "overflow_x": null,
            "overflow_y": null,
            "padding": null,
            "right": null,
            "top": null,
            "visibility": null,
            "width": null
          }
        },
        "33de965f1e0a4707b431d1893483c8b3": {
          "model_module": "@jupyter-widgets/controls",
          "model_name": "DescriptionStyleModel",
          "model_module_version": "1.5.0",
          "state": {
            "_model_module": "@jupyter-widgets/controls",
            "_model_module_version": "1.5.0",
            "_model_name": "DescriptionStyleModel",
            "_view_count": null,
            "_view_module": "@jupyter-widgets/base",
            "_view_module_version": "1.2.0",
            "_view_name": "StyleView",
            "description_width": ""
          }
        },
        "cac03e7ebef746388e68b231f4efa904": {
          "model_module": "@jupyter-widgets/base",
          "model_name": "LayoutModel",
          "model_module_version": "1.2.0",
          "state": {
            "_model_module": "@jupyter-widgets/base",
            "_model_module_version": "1.2.0",
            "_model_name": "LayoutModel",
            "_view_count": null,
            "_view_module": "@jupyter-widgets/base",
            "_view_module_version": "1.2.0",
            "_view_name": "LayoutView",
            "align_content": null,
            "align_items": null,
            "align_self": null,
            "border": null,
            "bottom": null,
            "display": null,
            "flex": null,
            "flex_flow": null,
            "grid_area": null,
            "grid_auto_columns": null,
            "grid_auto_flow": null,
            "grid_auto_rows": null,
            "grid_column": null,
            "grid_gap": null,
            "grid_row": null,
            "grid_template_areas": null,
            "grid_template_columns": null,
            "grid_template_rows": null,
            "height": null,
            "justify_content": null,
            "justify_items": null,
            "left": null,
            "margin": null,
            "max_height": null,
            "max_width": null,
            "min_height": null,
            "min_width": null,
            "object_fit": null,
            "object_position": null,
            "order": null,
            "overflow": null,
            "overflow_x": null,
            "overflow_y": null,
            "padding": null,
            "right": null,
            "top": null,
            "visibility": null,
            "width": "20px"
          }
        },
        "80680af6bd6d4361b0f01a0a47e65a3d": {
          "model_module": "@jupyter-widgets/controls",
          "model_name": "ProgressStyleModel",
          "model_module_version": "1.5.0",
          "state": {
            "_model_module": "@jupyter-widgets/controls",
            "_model_module_version": "1.5.0",
            "_model_name": "ProgressStyleModel",
            "_view_count": null,
            "_view_module": "@jupyter-widgets/base",
            "_view_module_version": "1.2.0",
            "_view_name": "StyleView",
            "bar_color": null,
            "description_width": ""
          }
        },
        "9c8b4671a7a44aa9b65cc5cc75ce86bc": {
          "model_module": "@jupyter-widgets/base",
          "model_name": "LayoutModel",
          "model_module_version": "1.2.0",
          "state": {
            "_model_module": "@jupyter-widgets/base",
            "_model_module_version": "1.2.0",
            "_model_name": "LayoutModel",
            "_view_count": null,
            "_view_module": "@jupyter-widgets/base",
            "_view_module_version": "1.2.0",
            "_view_name": "LayoutView",
            "align_content": null,
            "align_items": null,
            "align_self": null,
            "border": null,
            "bottom": null,
            "display": null,
            "flex": null,
            "flex_flow": null,
            "grid_area": null,
            "grid_auto_columns": null,
            "grid_auto_flow": null,
            "grid_auto_rows": null,
            "grid_column": null,
            "grid_gap": null,
            "grid_row": null,
            "grid_template_areas": null,
            "grid_template_columns": null,
            "grid_template_rows": null,
            "height": null,
            "justify_content": null,
            "justify_items": null,
            "left": null,
            "margin": null,
            "max_height": null,
            "max_width": null,
            "min_height": null,
            "min_width": null,
            "object_fit": null,
            "object_position": null,
            "order": null,
            "overflow": null,
            "overflow_x": null,
            "overflow_y": null,
            "padding": null,
            "right": null,
            "top": null,
            "visibility": null,
            "width": null
          }
        },
        "076cb66fdaed4910bba1a4bec98cc859": {
          "model_module": "@jupyter-widgets/controls",
          "model_name": "DescriptionStyleModel",
          "model_module_version": "1.5.0",
          "state": {
            "_model_module": "@jupyter-widgets/controls",
            "_model_module_version": "1.5.0",
            "_model_name": "DescriptionStyleModel",
            "_view_count": null,
            "_view_module": "@jupyter-widgets/base",
            "_view_module_version": "1.2.0",
            "_view_name": "StyleView",
            "description_width": ""
          }
        },
        "ed29a6f948ce46e8acea873b6e7b9d03": {
          "model_module": "@jupyter-widgets/controls",
          "model_name": "HBoxModel",
          "model_module_version": "1.5.0",
          "state": {
            "_dom_classes": [],
            "_model_module": "@jupyter-widgets/controls",
            "_model_module_version": "1.5.0",
            "_model_name": "HBoxModel",
            "_view_count": null,
            "_view_module": "@jupyter-widgets/controls",
            "_view_module_version": "1.5.0",
            "_view_name": "HBoxView",
            "box_style": "",
            "children": [
              "IPY_MODEL_a236c7dd5c514a918b78cfe5d6c7d20d",
              "IPY_MODEL_ebd5c1fa74dc4114aade9992be275fa5",
              "IPY_MODEL_028910d5e275464785f92978fbf238bf"
            ],
            "layout": "IPY_MODEL_35750af1925344efb8e907d9ac9aae4d"
          }
        },
        "a236c7dd5c514a918b78cfe5d6c7d20d": {
          "model_module": "@jupyter-widgets/controls",
          "model_name": "HTMLModel",
          "model_module_version": "1.5.0",
          "state": {
            "_dom_classes": [],
            "_model_module": "@jupyter-widgets/controls",
            "_model_module_version": "1.5.0",
            "_model_name": "HTMLModel",
            "_view_count": null,
            "_view_module": "@jupyter-widgets/controls",
            "_view_module_version": "1.5.0",
            "_view_name": "HTMLView",
            "description": "",
            "description_tooltip": null,
            "layout": "IPY_MODEL_931a7db3b58d4081a270d442025ba61c",
            "placeholder": "​",
            "style": "IPY_MODEL_e8a0435b4f884a3392d97c5d67d0cb6c",
            "value": "tokenizer.json: "
          }
        },
        "ebd5c1fa74dc4114aade9992be275fa5": {
          "model_module": "@jupyter-widgets/controls",
          "model_name": "FloatProgressModel",
          "model_module_version": "1.5.0",
          "state": {
            "_dom_classes": [],
            "_model_module": "@jupyter-widgets/controls",
            "_model_module_version": "1.5.0",
            "_model_name": "FloatProgressModel",
            "_view_count": null,
            "_view_module": "@jupyter-widgets/controls",
            "_view_module_version": "1.5.0",
            "_view_name": "ProgressView",
            "bar_style": "success",
            "description": "",
            "description_tooltip": null,
            "layout": "IPY_MODEL_3ca5590d06ea49fdb5cc655c383a7a2f",
            "max": 1,
            "min": 0,
            "orientation": "horizontal",
            "style": "IPY_MODEL_c605e86fa2b24f978ba9f26aaf6876b4",
            "value": 1
          }
        },
        "028910d5e275464785f92978fbf238bf": {
          "model_module": "@jupyter-widgets/controls",
          "model_name": "HTMLModel",
          "model_module_version": "1.5.0",
          "state": {
            "_dom_classes": [],
            "_model_module": "@jupyter-widgets/controls",
            "_model_module_version": "1.5.0",
            "_model_name": "HTMLModel",
            "_view_count": null,
            "_view_module": "@jupyter-widgets/controls",
            "_view_module_version": "1.5.0",
            "_view_name": "HTMLView",
            "description": "",
            "description_tooltip": null,
            "layout": "IPY_MODEL_3374fbc914ce4689aacbf616d3de23e3",
            "placeholder": "​",
            "style": "IPY_MODEL_19c13142ad80429f9a417887dde9ecdb",
            "value": " 3.13M/? [00:00&lt;00:00, 60.4MB/s]"
          }
        },
        "35750af1925344efb8e907d9ac9aae4d": {
          "model_module": "@jupyter-widgets/base",
          "model_name": "LayoutModel",
          "model_module_version": "1.2.0",
          "state": {
            "_model_module": "@jupyter-widgets/base",
            "_model_module_version": "1.2.0",
            "_model_name": "LayoutModel",
            "_view_count": null,
            "_view_module": "@jupyter-widgets/base",
            "_view_module_version": "1.2.0",
            "_view_name": "LayoutView",
            "align_content": null,
            "align_items": null,
            "align_self": null,
            "border": null,
            "bottom": null,
            "display": null,
            "flex": null,
            "flex_flow": null,
            "grid_area": null,
            "grid_auto_columns": null,
            "grid_auto_flow": null,
            "grid_auto_rows": null,
            "grid_column": null,
            "grid_gap": null,
            "grid_row": null,
            "grid_template_areas": null,
            "grid_template_columns": null,
            "grid_template_rows": null,
            "height": null,
            "justify_content": null,
            "justify_items": null,
            "left": null,
            "margin": null,
            "max_height": null,
            "max_width": null,
            "min_height": null,
            "min_width": null,
            "object_fit": null,
            "object_position": null,
            "order": null,
            "overflow": null,
            "overflow_x": null,
            "overflow_y": null,
            "padding": null,
            "right": null,
            "top": null,
            "visibility": null,
            "width": null
          }
        },
        "931a7db3b58d4081a270d442025ba61c": {
          "model_module": "@jupyter-widgets/base",
          "model_name": "LayoutModel",
          "model_module_version": "1.2.0",
          "state": {
            "_model_module": "@jupyter-widgets/base",
            "_model_module_version": "1.2.0",
            "_model_name": "LayoutModel",
            "_view_count": null,
            "_view_module": "@jupyter-widgets/base",
            "_view_module_version": "1.2.0",
            "_view_name": "LayoutView",
            "align_content": null,
            "align_items": null,
            "align_self": null,
            "border": null,
            "bottom": null,
            "display": null,
            "flex": null,
            "flex_flow": null,
            "grid_area": null,
            "grid_auto_columns": null,
            "grid_auto_flow": null,
            "grid_auto_rows": null,
            "grid_column": null,
            "grid_gap": null,
            "grid_row": null,
            "grid_template_areas": null,
            "grid_template_columns": null,
            "grid_template_rows": null,
            "height": null,
            "justify_content": null,
            "justify_items": null,
            "left": null,
            "margin": null,
            "max_height": null,
            "max_width": null,
            "min_height": null,
            "min_width": null,
            "object_fit": null,
            "object_position": null,
            "order": null,
            "overflow": null,
            "overflow_x": null,
            "overflow_y": null,
            "padding": null,
            "right": null,
            "top": null,
            "visibility": null,
            "width": null
          }
        },
        "e8a0435b4f884a3392d97c5d67d0cb6c": {
          "model_module": "@jupyter-widgets/controls",
          "model_name": "DescriptionStyleModel",
          "model_module_version": "1.5.0",
          "state": {
            "_model_module": "@jupyter-widgets/controls",
            "_model_module_version": "1.5.0",
            "_model_name": "DescriptionStyleModel",
            "_view_count": null,
            "_view_module": "@jupyter-widgets/base",
            "_view_module_version": "1.2.0",
            "_view_name": "StyleView",
            "description_width": ""
          }
        },
        "3ca5590d06ea49fdb5cc655c383a7a2f": {
          "model_module": "@jupyter-widgets/base",
          "model_name": "LayoutModel",
          "model_module_version": "1.2.0",
          "state": {
            "_model_module": "@jupyter-widgets/base",
            "_model_module_version": "1.2.0",
            "_model_name": "LayoutModel",
            "_view_count": null,
            "_view_module": "@jupyter-widgets/base",
            "_view_module_version": "1.2.0",
            "_view_name": "LayoutView",
            "align_content": null,
            "align_items": null,
            "align_self": null,
            "border": null,
            "bottom": null,
            "display": null,
            "flex": null,
            "flex_flow": null,
            "grid_area": null,
            "grid_auto_columns": null,
            "grid_auto_flow": null,
            "grid_auto_rows": null,
            "grid_column": null,
            "grid_gap": null,
            "grid_row": null,
            "grid_template_areas": null,
            "grid_template_columns": null,
            "grid_template_rows": null,
            "height": null,
            "justify_content": null,
            "justify_items": null,
            "left": null,
            "margin": null,
            "max_height": null,
            "max_width": null,
            "min_height": null,
            "min_width": null,
            "object_fit": null,
            "object_position": null,
            "order": null,
            "overflow": null,
            "overflow_x": null,
            "overflow_y": null,
            "padding": null,
            "right": null,
            "top": null,
            "visibility": null,
            "width": "20px"
          }
        },
        "c605e86fa2b24f978ba9f26aaf6876b4": {
          "model_module": "@jupyter-widgets/controls",
          "model_name": "ProgressStyleModel",
          "model_module_version": "1.5.0",
          "state": {
            "_model_module": "@jupyter-widgets/controls",
            "_model_module_version": "1.5.0",
            "_model_name": "ProgressStyleModel",
            "_view_count": null,
            "_view_module": "@jupyter-widgets/base",
            "_view_module_version": "1.2.0",
            "_view_name": "StyleView",
            "bar_color": null,
            "description_width": ""
          }
        },
        "3374fbc914ce4689aacbf616d3de23e3": {
          "model_module": "@jupyter-widgets/base",
          "model_name": "LayoutModel",
          "model_module_version": "1.2.0",
          "state": {
            "_model_module": "@jupyter-widgets/base",
            "_model_module_version": "1.2.0",
            "_model_name": "LayoutModel",
            "_view_count": null,
            "_view_module": "@jupyter-widgets/base",
            "_view_module_version": "1.2.0",
            "_view_name": "LayoutView",
            "align_content": null,
            "align_items": null,
            "align_self": null,
            "border": null,
            "bottom": null,
            "display": null,
            "flex": null,
            "flex_flow": null,
            "grid_area": null,
            "grid_auto_columns": null,
            "grid_auto_flow": null,
            "grid_auto_rows": null,
            "grid_column": null,
            "grid_gap": null,
            "grid_row": null,
            "grid_template_areas": null,
            "grid_template_columns": null,
            "grid_template_rows": null,
            "height": null,
            "justify_content": null,
            "justify_items": null,
            "left": null,
            "margin": null,
            "max_height": null,
            "max_width": null,
            "min_height": null,
            "min_width": null,
            "object_fit": null,
            "object_position": null,
            "order": null,
            "overflow": null,
            "overflow_x": null,
            "overflow_y": null,
            "padding": null,
            "right": null,
            "top": null,
            "visibility": null,
            "width": null
          }
        },
        "19c13142ad80429f9a417887dde9ecdb": {
          "model_module": "@jupyter-widgets/controls",
          "model_name": "DescriptionStyleModel",
          "model_module_version": "1.5.0",
          "state": {
            "_model_module": "@jupyter-widgets/controls",
            "_model_module_version": "1.5.0",
            "_model_name": "DescriptionStyleModel",
            "_view_count": null,
            "_view_module": "@jupyter-widgets/base",
            "_view_module_version": "1.2.0",
            "_view_name": "StyleView",
            "description_width": ""
          }
        },
        "4ea536c5ffb34d95aebdbd4cccdfa437": {
          "model_module": "@jupyter-widgets/controls",
          "model_name": "HBoxModel",
          "model_module_version": "1.5.0",
          "state": {
            "_dom_classes": [],
            "_model_module": "@jupyter-widgets/controls",
            "_model_module_version": "1.5.0",
            "_model_name": "HBoxModel",
            "_view_count": null,
            "_view_module": "@jupyter-widgets/controls",
            "_view_module_version": "1.5.0",
            "_view_name": "HBoxView",
            "box_style": "",
            "children": [
              "IPY_MODEL_8cc2d9df15b2486da0912c08bb052101",
              "IPY_MODEL_087a6a39781a4caa8a713159efbebffb",
              "IPY_MODEL_cc2ba46898db46c69a15c8e7ce0c7ebf"
            ],
            "layout": "IPY_MODEL_1db4b75699884619bb401624b7cb0b37"
          }
        },
        "8cc2d9df15b2486da0912c08bb052101": {
          "model_module": "@jupyter-widgets/controls",
          "model_name": "HTMLModel",
          "model_module_version": "1.5.0",
          "state": {
            "_dom_classes": [],
            "_model_module": "@jupyter-widgets/controls",
            "_model_module_version": "1.5.0",
            "_model_name": "HTMLModel",
            "_view_count": null,
            "_view_module": "@jupyter-widgets/controls",
            "_view_module_version": "1.5.0",
            "_view_name": "HTMLView",
            "description": "",
            "description_tooltip": null,
            "layout": "IPY_MODEL_1b3b37a85c074c309b4ef4946a25d7bd",
            "placeholder": "​",
            "style": "IPY_MODEL_cc0fa8b48e5248b9b8573799f936d7a4",
            "value": "Map: 100%"
          }
        },
        "087a6a39781a4caa8a713159efbebffb": {
          "model_module": "@jupyter-widgets/controls",
          "model_name": "FloatProgressModel",
          "model_module_version": "1.5.0",
          "state": {
            "_dom_classes": [],
            "_model_module": "@jupyter-widgets/controls",
            "_model_module_version": "1.5.0",
            "_model_name": "FloatProgressModel",
            "_view_count": null,
            "_view_module": "@jupyter-widgets/controls",
            "_view_module_version": "1.5.0",
            "_view_name": "ProgressView",
            "bar_style": "success",
            "description": "",
            "description_tooltip": null,
            "layout": "IPY_MODEL_ac91312dcfdf4a0baab4ffa42a9232a2",
            "max": 1558,
            "min": 0,
            "orientation": "horizontal",
            "style": "IPY_MODEL_912fbc963d7a454da870b6f0cc7ce947",
            "value": 1558
          }
        },
        "cc2ba46898db46c69a15c8e7ce0c7ebf": {
          "model_module": "@jupyter-widgets/controls",
          "model_name": "HTMLModel",
          "model_module_version": "1.5.0",
          "state": {
            "_dom_classes": [],
            "_model_module": "@jupyter-widgets/controls",
            "_model_module_version": "1.5.0",
            "_model_name": "HTMLModel",
            "_view_count": null,
            "_view_module": "@jupyter-widgets/controls",
            "_view_module_version": "1.5.0",
            "_view_name": "HTMLView",
            "description": "",
            "description_tooltip": null,
            "layout": "IPY_MODEL_cd4787b0ca124479a9f140e8a18e30de",
            "placeholder": "​",
            "style": "IPY_MODEL_aedff8dc0fcc42fba9847be696f9df6b",
            "value": " 1558/1558 [00:00&lt;00:00, 3940.25 examples/s]"
          }
        },
        "1db4b75699884619bb401624b7cb0b37": {
          "model_module": "@jupyter-widgets/base",
          "model_name": "LayoutModel",
          "model_module_version": "1.2.0",
          "state": {
            "_model_module": "@jupyter-widgets/base",
            "_model_module_version": "1.2.0",
            "_model_name": "LayoutModel",
            "_view_count": null,
            "_view_module": "@jupyter-widgets/base",
            "_view_module_version": "1.2.0",
            "_view_name": "LayoutView",
            "align_content": null,
            "align_items": null,
            "align_self": null,
            "border": null,
            "bottom": null,
            "display": null,
            "flex": null,
            "flex_flow": null,
            "grid_area": null,
            "grid_auto_columns": null,
            "grid_auto_flow": null,
            "grid_auto_rows": null,
            "grid_column": null,
            "grid_gap": null,
            "grid_row": null,
            "grid_template_areas": null,
            "grid_template_columns": null,
            "grid_template_rows": null,
            "height": null,
            "justify_content": null,
            "justify_items": null,
            "left": null,
            "margin": null,
            "max_height": null,
            "max_width": null,
            "min_height": null,
            "min_width": null,
            "object_fit": null,
            "object_position": null,
            "order": null,
            "overflow": null,
            "overflow_x": null,
            "overflow_y": null,
            "padding": null,
            "right": null,
            "top": null,
            "visibility": null,
            "width": null
          }
        },
        "1b3b37a85c074c309b4ef4946a25d7bd": {
          "model_module": "@jupyter-widgets/base",
          "model_name": "LayoutModel",
          "model_module_version": "1.2.0",
          "state": {
            "_model_module": "@jupyter-widgets/base",
            "_model_module_version": "1.2.0",
            "_model_name": "LayoutModel",
            "_view_count": null,
            "_view_module": "@jupyter-widgets/base",
            "_view_module_version": "1.2.0",
            "_view_name": "LayoutView",
            "align_content": null,
            "align_items": null,
            "align_self": null,
            "border": null,
            "bottom": null,
            "display": null,
            "flex": null,
            "flex_flow": null,
            "grid_area": null,
            "grid_auto_columns": null,
            "grid_auto_flow": null,
            "grid_auto_rows": null,
            "grid_column": null,
            "grid_gap": null,
            "grid_row": null,
            "grid_template_areas": null,
            "grid_template_columns": null,
            "grid_template_rows": null,
            "height": null,
            "justify_content": null,
            "justify_items": null,
            "left": null,
            "margin": null,
            "max_height": null,
            "max_width": null,
            "min_height": null,
            "min_width": null,
            "object_fit": null,
            "object_position": null,
            "order": null,
            "overflow": null,
            "overflow_x": null,
            "overflow_y": null,
            "padding": null,
            "right": null,
            "top": null,
            "visibility": null,
            "width": null
          }
        },
        "cc0fa8b48e5248b9b8573799f936d7a4": {
          "model_module": "@jupyter-widgets/controls",
          "model_name": "DescriptionStyleModel",
          "model_module_version": "1.5.0",
          "state": {
            "_model_module": "@jupyter-widgets/controls",
            "_model_module_version": "1.5.0",
            "_model_name": "DescriptionStyleModel",
            "_view_count": null,
            "_view_module": "@jupyter-widgets/base",
            "_view_module_version": "1.2.0",
            "_view_name": "StyleView",
            "description_width": ""
          }
        },
        "ac91312dcfdf4a0baab4ffa42a9232a2": {
          "model_module": "@jupyter-widgets/base",
          "model_name": "LayoutModel",
          "model_module_version": "1.2.0",
          "state": {
            "_model_module": "@jupyter-widgets/base",
            "_model_module_version": "1.2.0",
            "_model_name": "LayoutModel",
            "_view_count": null,
            "_view_module": "@jupyter-widgets/base",
            "_view_module_version": "1.2.0",
            "_view_name": "LayoutView",
            "align_content": null,
            "align_items": null,
            "align_self": null,
            "border": null,
            "bottom": null,
            "display": null,
            "flex": null,
            "flex_flow": null,
            "grid_area": null,
            "grid_auto_columns": null,
            "grid_auto_flow": null,
            "grid_auto_rows": null,
            "grid_column": null,
            "grid_gap": null,
            "grid_row": null,
            "grid_template_areas": null,
            "grid_template_columns": null,
            "grid_template_rows": null,
            "height": null,
            "justify_content": null,
            "justify_items": null,
            "left": null,
            "margin": null,
            "max_height": null,
            "max_width": null,
            "min_height": null,
            "min_width": null,
            "object_fit": null,
            "object_position": null,
            "order": null,
            "overflow": null,
            "overflow_x": null,
            "overflow_y": null,
            "padding": null,
            "right": null,
            "top": null,
            "visibility": null,
            "width": null
          }
        },
        "912fbc963d7a454da870b6f0cc7ce947": {
          "model_module": "@jupyter-widgets/controls",
          "model_name": "ProgressStyleModel",
          "model_module_version": "1.5.0",
          "state": {
            "_model_module": "@jupyter-widgets/controls",
            "_model_module_version": "1.5.0",
            "_model_name": "ProgressStyleModel",
            "_view_count": null,
            "_view_module": "@jupyter-widgets/base",
            "_view_module_version": "1.2.0",
            "_view_name": "StyleView",
            "bar_color": null,
            "description_width": ""
          }
        },
        "cd4787b0ca124479a9f140e8a18e30de": {
          "model_module": "@jupyter-widgets/base",
          "model_name": "LayoutModel",
          "model_module_version": "1.2.0",
          "state": {
            "_model_module": "@jupyter-widgets/base",
            "_model_module_version": "1.2.0",
            "_model_name": "LayoutModel",
            "_view_count": null,
            "_view_module": "@jupyter-widgets/base",
            "_view_module_version": "1.2.0",
            "_view_name": "LayoutView",
            "align_content": null,
            "align_items": null,
            "align_self": null,
            "border": null,
            "bottom": null,
            "display": null,
            "flex": null,
            "flex_flow": null,
            "grid_area": null,
            "grid_auto_columns": null,
            "grid_auto_flow": null,
            "grid_auto_rows": null,
            "grid_column": null,
            "grid_gap": null,
            "grid_row": null,
            "grid_template_areas": null,
            "grid_template_columns": null,
            "grid_template_rows": null,
            "height": null,
            "justify_content": null,
            "justify_items": null,
            "left": null,
            "margin": null,
            "max_height": null,
            "max_width": null,
            "min_height": null,
            "min_width": null,
            "object_fit": null,
            "object_position": null,
            "order": null,
            "overflow": null,
            "overflow_x": null,
            "overflow_y": null,
            "padding": null,
            "right": null,
            "top": null,
            "visibility": null,
            "width": null
          }
        },
        "aedff8dc0fcc42fba9847be696f9df6b": {
          "model_module": "@jupyter-widgets/controls",
          "model_name": "DescriptionStyleModel",
          "model_module_version": "1.5.0",
          "state": {
            "_model_module": "@jupyter-widgets/controls",
            "_model_module_version": "1.5.0",
            "_model_name": "DescriptionStyleModel",
            "_view_count": null,
            "_view_module": "@jupyter-widgets/base",
            "_view_module_version": "1.2.0",
            "_view_name": "StyleView",
            "description_width": ""
          }
        }
      }
    }
  },
  "nbformat": 4,
  "nbformat_minor": 0
}