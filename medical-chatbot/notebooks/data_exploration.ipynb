{
 "cells": [
  {
   "cell_type": "markdown",
   "metadata": {},
   "source": [
    "# Data Exploration\n",
    "\n",
    "In this notebook, we will explore the dataset used for training our medical chatbot. We will visualize the distribution of symptoms and medications to understand the data better."
   ]
  },
  {
   "cell_type": "code",
   "execution_count": 1,
   "metadata": {},
   "outputs": [],
   "source": [
    "import pandas as pd\n",
    "import matplotlib.pyplot as plt\n",
    "import seaborn as sns\n",
    "\n",
    "# Set the style of seaborn\n",
    "sns.set(style='whitegrid')"
   ]
  },
  {
   "cell_type": "code",
   "execution_count": 2,
   "metadata": {},
   "outputs": [],
   "source": [
    "# Load the dataset\n",
    "data = pd.read_csv('../data/processed/drugs_data.csv')\n",
    "data.head()"
   ]
  },
  {
   "cell_type": "code",
   "execution_count": 3,
   "metadata": {},
   "outputs": [],
   "source": [
    "# Check for missing values\n",
    "data.isnull().sum()"
   ]
  },
  {
   "cell_type": "code",
   "execution_count": 4,
   "metadata": {},
   "outputs": [],
   "source": [
    "# Visualize the distribution of symptoms\n",
    "plt.figure(figsize=(12, 6))\n",
    "sns.countplot(y='symptom', data=data, order=data['symptom'].value_counts().index)\n",
    "plt.title('Distribution of Symptoms')\n",
    "plt.xlabel('Count')\n",
    "plt.ylabel('Symptoms')\n",
    "plt.show()"
   ]
  },
  {
   "cell_type": "code",
   "metadata": {
    "ExecuteTime": {
     "end_time": "2025-10-10T16:17:35.955562Z",
     "start_time": "2025-10-10T16:17:35.738767Z"
    }
   },
   "source": [
    "# Visualize the distribution of medications\n",
    "plt.figure(figsize=(12, 6))\n",
    "sns.countplot(y='medication', data=data, order=data['medication'].value_counts().index)\n",
    "plt.title('Distribution of Medications')\n",
    "plt.xlabel('Count')\n",
    "plt.ylabel('Medications')\n",
    "plt.show()"
   ],
   "outputs": [
    {
     "ename": "NameError",
     "evalue": "name 'plt' is not defined",
     "output_type": "error",
     "traceback": [
      "\u001B[31m---------------------------------------------------------------------------\u001B[39m",
      "\u001B[31mNameError\u001B[39m                                 Traceback (most recent call last)",
      "\u001B[36mCell\u001B[39m\u001B[36m \u001B[39m\u001B[32mIn[1]\u001B[39m\u001B[32m, line 2\u001B[39m\n\u001B[32m      1\u001B[39m \u001B[38;5;66;03m# Visualize the distribution of medications\u001B[39;00m\n\u001B[32m----> \u001B[39m\u001B[32m2\u001B[39m \u001B[43mplt\u001B[49m.figure(figsize=(\u001B[32m12\u001B[39m, \u001B[32m6\u001B[39m))\n\u001B[32m      3\u001B[39m sns.countplot(y=\u001B[33m'\u001B[39m\u001B[33mmedication\u001B[39m\u001B[33m'\u001B[39m, data=data, order=data[\u001B[33m'\u001B[39m\u001B[33mmedication\u001B[39m\u001B[33m'\u001B[39m].value_counts().index)\n\u001B[32m      4\u001B[39m plt.title(\u001B[33m'\u001B[39m\u001B[33mDistribution of Medications\u001B[39m\u001B[33m'\u001B[39m)\n",
      "\u001B[31mNameError\u001B[39m: name 'plt' is not defined"
     ]
    }
   ],
   "execution_count": 1
  },
  {
   "cell_type": "markdown",
   "metadata": {},
   "source": [
    "## Conclusion\n",
    "\n",
    "In this notebook, we explored the dataset by visualizing the distribution of symptoms and medications. This analysis will help us understand the data better and guide us in training our models."
   ]
  }
 ],
 "metadata": {
  "kernelspec": {
   "display_name": "Python 3",
   "language": "python",
   "name": "python3"
  },
  "language_info": {
   "codemirror_mode": {
    "name": "ipython",
    "version": 3
   },
   "file_extension": ".py",
   "mimetype": "text/x-python",
   "name": "python",
   "nbconvert_exporter": "python",
   "pygments_lexer": "ipython3",
   "version": "3.8.5"
  }
 },
 "nbformat": 4,
 "nbformat_minor": 4
}
